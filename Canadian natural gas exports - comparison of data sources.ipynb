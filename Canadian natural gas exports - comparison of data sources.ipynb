{
 "cells": [
  {
   "cell_type": "code",
   "execution_count": 40,
   "metadata": {},
   "outputs": [],
   "source": [
    "import pandas as pd\n",
    "import numpy as np\n",
    "import requests\n",
    "import io\n",
    "import datetime\n",
    "import zipfile\n",
    "import altair as alt\n",
    "from vega_datasets import data\n",
    "\n",
    "from IPython.core.interactiveshell import InteractiveShell\n",
    "InteractiveShell.ast_node_interactivity = 'all'\n",
    "pd.options.display.float_format = '{:.2f}'.format"
   ]
  },
  {
   "cell_type": "markdown",
   "metadata": {},
   "source": [
    "This Notebook compares Canadian natural gas exports data from four sources:\n",
    "- Canada Energy Regulator\n",
    "- Statistics Canada\n",
    "- Canadian International Merchandise Trade Database\n",
    "- U.S. Energy Information Administration\n",
    "\n",
    "Comparison of exports data is available in Altair dashboard at end of Notebook. "
   ]
  },
  {
   "cell_type": "code",
   "execution_count": 41,
   "metadata": {},
   "outputs": [],
   "source": [
    "sources = []"
   ]
  },
  {
   "cell_type": "markdown",
   "metadata": {},
   "source": [
    "## Canada Energy Regulator\n",
    "\n",
    "The Canada Energy Regulator regulates the exports of natural gas from Canada. Export orders or licenses are required to export natural gas. <br /> CER publishes monthly export statistics: https://apps.cer-rec.gc.ca/CommodityStatistics/Statistics.aspx?language=english <br /> CER natural gas export statistics are updated monthly on Canada Open Gov: https://open.canada.ca/data/en/dataset/b2f35cd0-4e54-4960-bdb1-7b040f5beaa0 \n",
    "\n",
    "Data available monthly, from January 1985 to present."
   ]
  },
  {
   "cell_type": "code",
   "execution_count": 42,
   "metadata": {},
   "outputs": [
    {
     "data": {
      "text/html": [
       "<div>\n",
       "<style scoped>\n",
       "    .dataframe tbody tr th:only-of-type {\n",
       "        vertical-align: middle;\n",
       "    }\n",
       "\n",
       "    .dataframe tbody tr th {\n",
       "        vertical-align: top;\n",
       "    }\n",
       "\n",
       "    .dataframe thead th {\n",
       "        text-align: right;\n",
       "    }\n",
       "</style>\n",
       "<table border=\"1\" class=\"dataframe\">\n",
       "  <thead>\n",
       "    <tr style=\"text-align: right;\">\n",
       "      <th></th>\n",
       "      <th>Date</th>\n",
       "      <th>Volume</th>\n",
       "      <th>Source</th>\n",
       "    </tr>\n",
       "  </thead>\n",
       "  <tbody>\n",
       "    <tr>\n",
       "      <th>11551</th>\n",
       "      <td>2019-10-01</td>\n",
       "      <td>6.73</td>\n",
       "      <td>Canada Energy Regulator</td>\n",
       "    </tr>\n",
       "    <tr>\n",
       "      <th>11588</th>\n",
       "      <td>2019-11-01</td>\n",
       "      <td>7.44</td>\n",
       "      <td>Canada Energy Regulator</td>\n",
       "    </tr>\n",
       "    <tr>\n",
       "      <th>11623</th>\n",
       "      <td>2019-12-01</td>\n",
       "      <td>7.86</td>\n",
       "      <td>Canada Energy Regulator</td>\n",
       "    </tr>\n",
       "    <tr>\n",
       "      <th>11660</th>\n",
       "      <td>2020-01-01</td>\n",
       "      <td>7.80</td>\n",
       "      <td>Canada Energy Regulator</td>\n",
       "    </tr>\n",
       "    <tr>\n",
       "      <th>11698</th>\n",
       "      <td>2020-02-01</td>\n",
       "      <td>7.84</td>\n",
       "      <td>Canada Energy Regulator</td>\n",
       "    </tr>\n",
       "  </tbody>\n",
       "</table>\n",
       "</div>"
      ],
      "text/plain": [
       "            Date  Volume                   Source\n",
       "11551 2019-10-01    6.73  Canada Energy Regulator\n",
       "11588 2019-11-01    7.44  Canada Energy Regulator\n",
       "11623 2019-12-01    7.86  Canada Energy Regulator\n",
       "11660 2020-01-01    7.80  Canada Energy Regulator\n",
       "11698 2020-02-01    7.84  Canada Energy Regulator"
      ]
     },
     "execution_count": 42,
     "metadata": {},
     "output_type": "execute_result"
    }
   ],
   "source": [
    "url_cer = 'https://www.cer-rec.gc.ca/open/imports-exports/natural-gas-exports-and-imports-monthly.csv'\n",
    "cer_df = pd.read_csv(url_cer, parse_dates = ['Period'])\n",
    "cer_df = cer_df[(cer_df['Port'] == 'Total') & (cer_df['Flow'] == 'Exports')][['Period', 'Volume (MCF)']]\n",
    "cer_df.columns = ['Date', 'Volume']\n",
    "cer_df['Volume'] = cer_df['Volume'] / (cer_df['Date'].dt.daysinmonth) / 1000000\n",
    "cer_df['Source'] = 'Canada Energy Regulator'\n",
    "sources.append(cer_df)\n",
    "cer_df.tail()"
   ]
  },
  {
   "cell_type": "markdown",
   "metadata": {},
   "source": [
    "## Statistics Canada\n",
    "#### Table  25-10-0055-01   Supply and disposition of natural gas, monthly (data in thousands) (x 1,000) <br /> DOI:   https://doi.org/10.25318/2510005501-eng\n",
    "Data available monthly, from Jan 2016 to present. <br /> Exports include all natural gas and liquefied natural gas (LNG) exiting a region at the Canadian/U.S. border. It may include natural gas destined for re-import."
   ]
  },
  {
   "cell_type": "code",
   "execution_count": 43,
   "metadata": {
    "scrolled": true
   },
   "outputs": [
    {
     "data": {
      "text/html": [
       "<div>\n",
       "<style scoped>\n",
       "    .dataframe tbody tr th:only-of-type {\n",
       "        vertical-align: middle;\n",
       "    }\n",
       "\n",
       "    .dataframe tbody tr th {\n",
       "        vertical-align: top;\n",
       "    }\n",
       "\n",
       "    .dataframe thead th {\n",
       "        text-align: right;\n",
       "    }\n",
       "</style>\n",
       "<table border=\"1\" class=\"dataframe\">\n",
       "  <thead>\n",
       "    <tr style=\"text-align: right;\">\n",
       "      <th></th>\n",
       "      <th>Date</th>\n",
       "      <th>Volume</th>\n",
       "      <th>Source</th>\n",
       "    </tr>\n",
       "  </thead>\n",
       "  <tbody>\n",
       "    <tr>\n",
       "      <th>7302</th>\n",
       "      <td>2019-10-01</td>\n",
       "      <td>6.35</td>\n",
       "      <td>Statistics Canada</td>\n",
       "    </tr>\n",
       "    <tr>\n",
       "      <th>7464</th>\n",
       "      <td>2019-11-01</td>\n",
       "      <td>7.26</td>\n",
       "      <td>Statistics Canada</td>\n",
       "    </tr>\n",
       "    <tr>\n",
       "      <th>7626</th>\n",
       "      <td>2019-12-01</td>\n",
       "      <td>7.71</td>\n",
       "      <td>Statistics Canada</td>\n",
       "    </tr>\n",
       "    <tr>\n",
       "      <th>7788</th>\n",
       "      <td>2020-01-01</td>\n",
       "      <td>7.49</td>\n",
       "      <td>Statistics Canada</td>\n",
       "    </tr>\n",
       "    <tr>\n",
       "      <th>7950</th>\n",
       "      <td>2020-02-01</td>\n",
       "      <td>7.68</td>\n",
       "      <td>Statistics Canada</td>\n",
       "    </tr>\n",
       "  </tbody>\n",
       "</table>\n",
       "</div>"
      ],
      "text/plain": [
       "           Date  Volume             Source\n",
       "7302 2019-10-01    6.35  Statistics Canada\n",
       "7464 2019-11-01    7.26  Statistics Canada\n",
       "7626 2019-12-01    7.71  Statistics Canada\n",
       "7788 2020-01-01    7.49  Statistics Canada\n",
       "7950 2020-02-01    7.68  Statistics Canada"
      ]
     },
     "execution_count": 43,
     "metadata": {},
     "output_type": "execute_result"
    }
   ],
   "source": [
    "#Table 25-10-0055-01\n",
    "url_demand = 'https://www150.statcan.gc.ca/n1/tbl/csv/25100055-eng.zip'\n",
    "file_name = '25100055.csv'\n",
    "r = requests.get(url_demand, allow_redirects=True)\n",
    "zip_file = zipfile.ZipFile(io.BytesIO(r.content))\n",
    "df = pd.read_csv(zip_file.open(file_name), index_col=None, header=0, parse_dates=['REF_DATE'])\n",
    "\n",
    "# filter for exports\n",
    "keep = ['Exports']\n",
    "exports_sc = df[df['Supply and disposition'].isin(keep) \n",
    "        & (df['UOM'] == 'Cubic metres')][['REF_DATE', 'GEO', 'Supply and disposition', 'VALUE']]\n",
    "\n",
    "# convert to billion cubic feet per day\n",
    "exports_sc['Value (Bcf/d)'] = exports_sc['VALUE']/(exports_sc['REF_DATE'].dt.daysinmonth) / 1000000 * 35.3147 \n",
    "\n",
    "#clean-up\n",
    "exports_sc.rename(columns={'REF_DATE':'Date', 'GEO':'Region', 'Supply and disposition':'Category'}, inplace=True)\n",
    "exports_sc = exports_sc[exports_sc['Region'] == 'Canada']\n",
    "exports_sc = exports_sc[['Date', 'Value (Bcf/d)']]\n",
    "exports_sc['Source'] = 'Statistics Canada'\n",
    "exports_sc.columns = ['Date', 'Volume', 'Source']\n",
    "sources.append(exports_sc)\n",
    "exports_sc.tail()"
   ]
  },
  {
   "cell_type": "code",
   "execution_count": 44,
   "metadata": {},
   "outputs": [],
   "source": [
    "# CANSIM 131-0004"
   ]
  },
  {
   "cell_type": "markdown",
   "metadata": {},
   "source": [
    "## Canadian International Merchandise Trade Database\n",
    "#### HS code 271121 <br /> 271121 Natural gas, in gaseous state"
   ]
  },
  {
   "cell_type": "code",
   "execution_count": 45,
   "metadata": {},
   "outputs": [
    {
     "data": {
      "text/html": [
       "<div>\n",
       "<style scoped>\n",
       "    .dataframe tbody tr th:only-of-type {\n",
       "        vertical-align: middle;\n",
       "    }\n",
       "\n",
       "    .dataframe tbody tr th {\n",
       "        vertical-align: top;\n",
       "    }\n",
       "\n",
       "    .dataframe thead th {\n",
       "        text-align: right;\n",
       "    }\n",
       "</style>\n",
       "<table border=\"1\" class=\"dataframe\">\n",
       "  <thead>\n",
       "    <tr style=\"text-align: right;\">\n",
       "      <th></th>\n",
       "      <th>Date</th>\n",
       "      <th>Volume</th>\n",
       "      <th>Source</th>\n",
       "    </tr>\n",
       "  </thead>\n",
       "  <tbody>\n",
       "    <tr>\n",
       "      <th>240</th>\n",
       "      <td>2020-01-01</td>\n",
       "      <td>7.49</td>\n",
       "      <td>CIMT</td>\n",
       "    </tr>\n",
       "    <tr>\n",
       "      <th>242</th>\n",
       "      <td>2020-02-01</td>\n",
       "      <td>7.64</td>\n",
       "      <td>CIMT</td>\n",
       "    </tr>\n",
       "    <tr>\n",
       "      <th>244</th>\n",
       "      <td>2020-03-01</td>\n",
       "      <td>5.71</td>\n",
       "      <td>CIMT</td>\n",
       "    </tr>\n",
       "    <tr>\n",
       "      <th>246</th>\n",
       "      <td>2020-04-01</td>\n",
       "      <td>nan</td>\n",
       "      <td>CIMT</td>\n",
       "    </tr>\n",
       "    <tr>\n",
       "      <th>248</th>\n",
       "      <td>2020-05-01</td>\n",
       "      <td>nan</td>\n",
       "      <td>CIMT</td>\n",
       "    </tr>\n",
       "  </tbody>\n",
       "</table>\n",
       "</div>"
      ],
      "text/plain": [
       "          Date  Volume Source\n",
       "240 2020-01-01    7.49   CIMT\n",
       "242 2020-02-01    7.64   CIMT\n",
       "244 2020-03-01    5.71   CIMT\n",
       "246 2020-04-01     nan   CIMT\n",
       "248 2020-05-01     nan   CIMT"
      ]
     },
     "execution_count": 45,
     "metadata": {},
     "output_type": "execute_result"
    },
    {
     "data": {
      "text/plain": [
       "(125, 3)"
      ]
     },
     "execution_count": 45,
     "metadata": {},
     "output_type": "execute_result"
    }
   ],
   "source": [
    "date_end = datetime.date.today()\n",
    "date_start = datetime.date(2010, 1, 1)\n",
    "dates = pd.date_range(date_start, date_end, freq='MS')\n",
    "\n",
    "\n",
    "# url with HS code and trade type\n",
    "url_imports = ('https://www5.statcan.gc.ca/cimt-cicm/topNCountries-pays?lang=eng&getSectionId()=0&'\n",
    "       'dataTransformation=0&refYr=YYYY&refMonth=MM&freq=6&countryId=0&getUsaState()=0&'\n",
    "       'provId=REGION&retrieve=Retrieve&country=null&tradeType=1&topNDefault=250&monthStr=null&'\n",
    "       'chapterId=27&arrayId=0&sectionLabel=&scaleValue=0&scaleQuantity=0&commodityId=271121')\n",
    "regions = {'Canada':'1'}\n",
    "\n",
    "data = []\n",
    "for r in regions:\n",
    "    for d in dates:\n",
    "        get_url = url_imports.replace('REGION',regions[r]).replace('YYYY',str(d.year)).replace('MM',str(d.month))\n",
    "#         print(get_url)\n",
    "        try:\n",
    "            df = pd.read_html(get_url, header=[0, 1, 2], index_col=None, encoding='utf-8')[0]\n",
    "            df.columns.set_levels(df.columns.levels[0].str.replace(chr(160), ' '), level=0, inplace=True)\n",
    "            \n",
    "            for col in df.columns:\n",
    "                if not (col[0].replace(chr(160), ' ').startswith(d.strftime('%B %Y')) or col[0].startswith('Country')):\n",
    "                    df.drop(col, 1, inplace=True)\n",
    "            # if there is data\n",
    "            if len(df.columns) > 0:\n",
    "                df.columns = df.columns.get_level_values(1)\n",
    "                df['Region'] = r\n",
    "                df['Date'] = d\n",
    "                data.append(df)\n",
    "        except:\n",
    "            continue\n",
    "\n",
    "cimt_exports = pd.concat(data, axis=0, sort=False, ignore_index=True)\n",
    "cimt_exports.columns = ['Destination', 'Volume', 'Value', 'Region', 'Date']\n",
    "cimt_exports = cimt_exports[cimt_exports['Destination'] == 'World'][['Date', 'Volume']]\n",
    "cimt_exports['Volume'] = cimt_exports['Volume']/(cimt_exports['Date'].dt.daysinmonth) / 1000000 * 35.3147 \n",
    "cimt_exports['Source'] = 'CIMT'\n",
    "sources.append(cimt_exports)",
    "cimt_exports.tail()\n",
    "cimt_exports.shape"
   ]
  },
  {
   "cell_type": "markdown",
   "metadata": {},
   "source": [
    "#### HS code 271111 <br /> 271111 Natural gas, liquefied \n",
    "#### This section needs work; confirm conversion formula.  <br /> sum 271121 and 271111 to get 'the CIMT' number."
   ]
  },
  {
   "cell_type": "code",
   "execution_count": 46,
   "metadata": {
    "scrolled": true
   },
   "outputs": [],
   "source": [
    "# date_end = datetime.date.today()\n",
    "# date_start = datetime.date(2009, 1, 1)\n",
    "# dates = pd.date_range(date_start, date_end, freq='MS')\n",
    "\n",
    "# # url with HS code and trade type\n",
    "# url_imports = ('https://www5.statcan.gc.ca/cimt-cicm/topNCountries-pays?lang=eng&getSectionId()=0&'\n",
    "#        'dataTransformation=0&refYr=YYYY&refMonth=MM&freq=6&countryId=0&getUsaState()=0&'\n",
    "#        'provId=REGION&retrieve=Retrieve&country=null&tradeType=1&topNDefault=250&monthStr=null&'\n",
    "#        'chapterId=27&arrayId=0&sectionLabel=&scaleValue=0&scaleQuantity=0&commodityId=271111')\n",
    "# regions = {'Canada':'1'}\n",
    "\n",
    "# data = []\n",
    "# for r in regions:\n",
    "#     for d in dates:\n",
    "#         get_url = url_imports.replace('REGION',regions[r]).replace('YYYY',str(d.year)).replace('MM',str(d.month))\n",
    "# #         print(get_url)\n",
    "#         try:\n",
    "#             df = pd.read_html(get_url, header=[0, 1, 2], index_col=None, encoding='utf-8')[0]\n",
    "#             df.columns.set_levels(df.columns.levels[0].str.replace(chr(160), ' '), level=0, inplace=True)\n",
    "            \n",
    "#             for col in df.columns:\n",
    "#                 if not (col[0].replace(chr(160), ' ').startswith(d.strftime('%B %Y')) or col[0].startswith('Country')):\n",
    "#                     df.drop(col, 1, inplace=True)\n",
    "#             # if there is data\n",
    "#             if len(df.columns) > 0:\n",
    "#                 df.columns = df.columns.get_level_values(1)\n",
    "#                 df['Region'] = r\n",
    "#                 df['Date'] = d\n",
    "#                 data.append(df)\n",
    "#         except:\n",
    "#             continue\n",
    "\n",
    "# cimt_exports_lng = pd.concat(data, axis=0, sort=False, ignore_index=True)\n",
    "# cimt_exports_lng.columns = ['Destination', 'Volume', 'Value', 'Region', 'Date']\n",
    "# cimt_exports_lng = cimt_exports_lng[cimt_exports_lng['Destination'] == 'World'][['Date', 'Volume']]\n",
    "# # Quantity = (LTR)\n",
    "# cimt_exports_lng['Volume'] = cimt_exports_lng['Volume']/(cimt_exports_lng['Date'].dt.daysinmonth) \n",
    "# # * 21718.5200 / 1000000000\n",
    "# # http://agnatural.pt/documentos/ver/natural-gas-conversion-guide_cb4f0ccd80ccaf88ca5ec336a38600867db5aaf1.pdf\n",
    "# # https://apps.cer-rec.gc.ca/Conversion/conversion-tables.aspx?GoCTemplateCulture=en-CA\n",
    "# # https://www.nrcan.gc.ca/energy/international/nacei/18057\n",
    "# # cubic metres (m3) LNG\tcubic feet (cf) natural gas\t21,718.5200\n",
    "# # 2.06311\n",
    "# # cimt_exports_lng['Source'] = 'CIMT'\n",
    "# cimt_exports_lng.tail()\n",
    "# cimt_exports_lng.head()"
   ]
  },
  {
   "cell_type": "code",
   "execution_count": 47,
   "metadata": {},
   "outputs": [],
   "source": [
    "#sum pipeline export and lng\n",
    "# cimt_all = cimt_exports.merge(cimt_exports_lng, on = 'Date', how = 'left')\n",
    "# cimt_all.head()\n",
    "# source.append(cimt_all)"
   ]
  },
  {
   "cell_type": "markdown",
   "metadata": {},
   "source": [
    "## EIA\n",
    "#### U.S. Natural Gas Pipeline Imports From Canada (Million Cubic Feet) <br /> https://www.eia.gov/dnav/ng/hist/n9102cn2m.htm\n",
    "Data available monthly, starting from Jan 1973."
   ]
  },
  {
   "cell_type": "code",
   "execution_count": 48,
   "metadata": {},
   "outputs": [],
   "source": [
    "eia_url = 'https://www.eia.gov/dnav/ng/hist_xls/N9102CN2m.xls'\n",
    "eia_df = pd.read_excel(eia_url, sheet_name = 'Data 1', skiprows = 2)\n",
    "eia_df.columns = ['Date', 'Volume']\n",
    "eia_df['Volume'] = eia_df['Volume'] / (eia_df['Date'].dt.daysinmonth) / 1000\n",
    "eia_df['Source'] = 'EIA'\n",
    "sources.append(eia_df)\n",
    "# eia_df.dtypes\n",
    "# eia_df.head()\n",
    "# eia_df.tail()"
   ]
  },
  {
   "cell_type": "markdown",
   "metadata": {},
   "source": [
    "## Data comparison dashboard"
   ]
  },
  {
   "cell_type": "code",
   "execution_count": 49,
   "metadata": {},
   "outputs": [
    {
     "data": {
      "text/plain": [
       "(1038, 3)"
      ]
     },
     "execution_count": 49,
     "metadata": {},
     "output_type": "execute_result"
    },
    {
     "data": {
      "text/html": [
       "<div>\n",
       "<style scoped>\n",
       "    .dataframe tbody tr th:only-of-type {\n",
       "        vertical-align: middle;\n",
       "    }\n",
       "\n",
       "    .dataframe tbody tr th {\n",
       "        vertical-align: top;\n",
       "    }\n",
       "\n",
       "    .dataframe thead th {\n",
       "        text-align: right;\n",
       "    }\n",
       "</style>\n",
       "<table border=\"1\" class=\"dataframe\">\n",
       "  <thead>\n",
       "    <tr style=\"text-align: right;\">\n",
       "      <th></th>\n",
       "      <th>Date</th>\n",
       "      <th>Volume</th>\n",
       "      <th>Source</th>\n",
       "    </tr>\n",
       "  </thead>\n",
       "  <tbody>\n",
       "    <tr>\n",
       "      <th>13</th>\n",
       "      <td>1985-01-01</td>\n",
       "      <td>3.27</td>\n",
       "      <td>Canada Energy Regulator</td>\n",
       "    </tr>\n",
       "    <tr>\n",
       "      <th>29</th>\n",
       "      <td>1985-02-01</td>\n",
       "      <td>3.36</td>\n",
       "      <td>Canada Energy Regulator</td>\n",
       "    </tr>\n",
       "    <tr>\n",
       "      <th>45</th>\n",
       "      <td>1985-03-01</td>\n",
       "      <td>2.80</td>\n",
       "      <td>Canada Energy Regulator</td>\n",
       "    </tr>\n",
       "    <tr>\n",
       "      <th>61</th>\n",
       "      <td>1985-04-01</td>\n",
       "      <td>2.43</td>\n",
       "      <td>Canada Energy Regulator</td>\n",
       "    </tr>\n",
       "    <tr>\n",
       "      <th>77</th>\n",
       "      <td>1985-05-01</td>\n",
       "      <td>2.30</td>\n",
       "      <td>Canada Energy Regulator</td>\n",
       "    </tr>\n",
       "  </tbody>\n",
       "</table>\n",
       "</div>"
      ],
      "text/plain": [
       "         Date  Volume                   Source\n",
       "13 1985-01-01    3.27  Canada Energy Regulator\n",
       "29 1985-02-01    3.36  Canada Energy Regulator\n",
       "45 1985-03-01    2.80  Canada Energy Regulator\n",
       "61 1985-04-01    2.43  Canada Energy Regulator\n",
       "77 1985-05-01    2.30  Canada Energy Regulator"
      ]
     },
     "execution_count": 49,
     "metadata": {},
     "output_type": "execute_result"
    }
   ],
   "source": [
    "#combine data from all sources\n",
    "can_exports = pd.concat(sources)\n",
    "can_exports = can_exports.dropna()\n",
    "can_exports.shape\n",
    "can_exports.head()\n",
    "can_exports = can_exports[can_exports['Date'] >= '1990-01-01']"
   ]
  },
  {
   "cell_type": "markdown",
   "metadata": {},
   "source": [
    "#### The dashboard has interactive controls. <br /> To zoom in, swipe left on your mouse bar; to zoom out, swipe right. <br /> Double click on the chart area to return to default view. "
   ]
  },
  {
   "cell_type": "code",
   "execution_count": 50,
   "metadata": {},
   "outputs": [
    {
     "data": {
      "text/html": [
       "\n",
       "<div id=\"altair-viz-0f3ff68fc2ad4fea9cf9409b71deed67\"></div>\n",
       "<script type=\"text/javascript\">\n",
       "  (function(spec, embedOpt){\n",
       "    let outputDiv = document.currentScript.previousElementSibling;\n",
       "    if (outputDiv.id !== \"altair-viz-0f3ff68fc2ad4fea9cf9409b71deed67\") {\n",
       "      outputDiv = document.getElementById(\"altair-viz-0f3ff68fc2ad4fea9cf9409b71deed67\");\n",
       "    }\n",
       "    const paths = {\n",
       "      \"vega\": \"https://cdn.jsdelivr.net/npm//vega@5?noext\",\n",
       "      \"vega-lib\": \"https://cdn.jsdelivr.net/npm//vega-lib?noext\",\n",
       "      \"vega-lite\": \"https://cdn.jsdelivr.net/npm//vega-lite@4.8.1?noext\",\n",
       "      \"vega-embed\": \"https://cdn.jsdelivr.net/npm//vega-embed@6?noext\",\n",
       "    };\n",
       "\n",
       "    function loadScript(lib) {\n",
       "      return new Promise(function(resolve, reject) {\n",
       "        var s = document.createElement('script');\n",
       "        s.src = paths[lib];\n",
       "        s.async = true;\n",
       "        s.onload = () => resolve(paths[lib]);\n",
       "        s.onerror = () => reject(`Error loading script: ${paths[lib]}`);\n",
       "        document.getElementsByTagName(\"head\")[0].appendChild(s);\n",
       "      });\n",
       "    }\n",
       "\n",
       "    function showError(err) {\n",
       "      outputDiv.innerHTML = `<div class=\"error\" style=\"color:red;\">${err}</div>`;\n",
       "      throw err;\n",
       "    }\n",
       "\n",
       "    function displayChart(vegaEmbed) {\n",
       "      vegaEmbed(outputDiv, spec, embedOpt)\n",
       "        .catch(err => showError(`Javascript Error: ${err.message}<br>This usually means there's a typo in your chart specification. See the javascript console for the full traceback.`));\n",
       "    }\n",
       "\n",
       "    if(typeof define === \"function\" && define.amd) {\n",
       "      requirejs.config({paths});\n",
       "      require([\"vega-embed\"], displayChart, err => showError(`Error loading script: ${err.message}`));\n",
       "    } else if (typeof vegaEmbed === \"function\") {\n",
       "      displayChart(vegaEmbed);\n",
       "    } else {\n",
       "      loadScript(\"vega\")\n",
       "        .then(() => loadScript(\"vega-lite\"))\n",
       "        .then(() => loadScript(\"vega-embed\"))\n",
       "        .catch(showError)\n",
       "        .then(() => displayChart(vegaEmbed));\n",
       "    }\n",
       "  })({\"config\": {\"view\": {\"continuousWidth\": 400, \"continuousHeight\": 300}, \"title\": {\"anchor\": \"start\", \"color\": \"black\", \"font\": \"Courier\", \"fontSize\": 20}}, \"data\": {\"name\": \"data-33f707a61e71a32e4a4d506a24a3d44e\"}, \"mark\": \"line\", \"encoding\": {\"color\": {\"type\": \"nominal\", \"field\": \"Source\", \"legend\": {\"labelFont\": \"Courier\", \"labelFontSize\": 14, \"orient\": \"left\", \"title\": \"Sources:\", \"titleFont\": \"Courier\", \"titleFontSize\": 14}}, \"strokeDash\": {\"type\": \"nominal\", \"field\": \"Source\"}, \"tooltip\": [{\"type\": \"temporal\", \"field\": \"Date\"}, {\"type\": \"quantitative\", \"field\": \"Volume\"}, {\"type\": \"nominal\", \"field\": \"Source\"}], \"x\": {\"type\": \"temporal\", \"field\": \"Date\"}, \"y\": {\"type\": \"quantitative\", \"axis\": {\"title\": \"Volume (billion cubic feet per day)\"}, \"field\": \"Volume\", \"scale\": {\"zero\": false}}}, \"height\": 550, \"selection\": {\"selector005\": {\"type\": \"interval\", \"bind\": \"scales\", \"encodings\": [\"x\", \"y\"]}}, \"title\": \"Canadian natural gas exports - comparison of data sources\", \"width\": 750, \"$schema\": \"https://vega.github.io/schema/vega-lite/v4.8.1.json\", \"datasets\": {\"data-33f707a61e71a32e4a4d506a24a3d44e\": [{\"Date\": \"1990-01-01T00:00:00\", \"Volume\": 4.16535897479812, \"Source\": \"Canada Energy Regulator\"}, {\"Date\": \"1990-02-01T00:00:00\", \"Volume\": 3.8447477816875555, \"Source\": \"Canada Energy Regulator\"}, {\"Date\": \"1990-03-01T00:00:00\", \"Volume\": 3.550114566424932, \"Source\": \"Canada Energy Regulator\"}, {\"Date\": \"1990-04-01T00:00:00\", \"Volume\": 3.7313648575629714, \"Source\": \"Canada Energy Regulator\"}, {\"Date\": \"1990-05-01T00:00:00\", \"Volume\": 3.75633458679837, \"Source\": \"Canada Energy Regulator\"}, {\"Date\": \"1990-06-01T00:00:00\", \"Volume\": 3.7294875524101614, \"Source\": \"Canada Energy Regulator\"}, {\"Date\": \"1990-07-01T00:00:00\", \"Volume\": 3.681481743982302, \"Source\": \"Canada Energy Regulator\"}, {\"Date\": \"1990-08-01T00:00:00\", \"Volume\": 3.6516795332219862, \"Source\": \"Canada Energy Regulator\"}, {\"Date\": \"1990-09-01T00:00:00\", \"Volume\": 3.8772414934095454, \"Source\": \"Canada Energy Regulator\"}, {\"Date\": \"1990-10-01T00:00:00\", \"Volume\": 4.336246376299325, \"Source\": \"Canada Energy Regulator\"}, {\"Date\": \"1990-11-01T00:00:00\", \"Volume\": 4.224912430080561, \"Source\": \"Canada Energy Regulator\"}, {\"Date\": \"1990-12-01T00:00:00\", \"Volume\": 4.659714328218597, \"Source\": \"Canada Energy Regulator\"}, {\"Date\": \"1991-01-01T00:00:00\", \"Volume\": 4.813455710912177, \"Source\": \"Canada Energy Regulator\"}, {\"Date\": \"1991-02-01T00:00:00\", \"Volume\": 4.519046709627601, \"Source\": \"Canada Energy Regulator\"}, {\"Date\": \"1991-03-01T00:00:00\", \"Volume\": 4.624729594631994, \"Source\": \"Canada Energy Regulator\"}, {\"Date\": \"1991-04-01T00:00:00\", \"Volume\": 4.6783814085366195, \"Source\": \"Canada Energy Regulator\"}, {\"Date\": \"1991-05-01T00:00:00\", \"Volume\": 4.270857721363449, \"Source\": \"Canada Energy Regulator\"}, {\"Date\": \"1991-06-01T00:00:00\", \"Volume\": 4.216915114836383, \"Source\": \"Canada Energy Regulator\"}, {\"Date\": \"1991-07-01T00:00:00\", \"Volume\": 4.013472259092116, \"Source\": \"Canada Energy Regulator\"}, {\"Date\": \"1991-08-01T00:00:00\", \"Volume\": 4.057283258015504, \"Source\": \"Canada Energy Regulator\"}, {\"Date\": \"1991-09-01T00:00:00\", \"Volume\": 4.429509391938578, \"Source\": \"Canada Energy Regulator\"}, {\"Date\": \"1991-10-01T00:00:00\", \"Volume\": 4.91582565351418, \"Source\": \"Canada Energy Regulator\"}, {\"Date\": \"1991-11-01T00:00:00\", \"Volume\": 5.339619022605794, \"Source\": \"Canada Energy Regulator\"}, {\"Date\": \"1991-12-01T00:00:00\", \"Volume\": 5.644404255501347, \"Source\": \"Canada Energy Regulator\"}, {\"Date\": \"1992-01-01T00:00:00\", \"Volume\": 5.102048180028165, \"Source\": \"Canada Energy Regulator\"}, {\"Date\": \"1992-02-01T00:00:00\", \"Volume\": 5.673831698841992, \"Source\": \"Canada Energy Regulator\"}, {\"Date\": \"1992-03-01T00:00:00\", \"Volume\": 5.640088747073665, \"Source\": \"Canada Energy Regulator\"}, {\"Date\": \"1992-04-01T00:00:00\", \"Volume\": 5.664620505246193, \"Source\": \"Canada Energy Regulator\"}, {\"Date\": \"1992-05-01T00:00:00\", \"Volume\": 5.5453981529443555, \"Source\": \"Canada Energy Regulator\"}, {\"Date\": \"1992-06-01T00:00:00\", \"Volume\": 5.199862749860208, \"Source\": \"Canada Energy Regulator\"}, {\"Date\": \"1992-07-01T00:00:00\", \"Volume\": 5.32486940010593, \"Source\": \"Canada Energy Regulator\"}, {\"Date\": \"1992-08-01T00:00:00\", \"Volume\": 5.4054158553518725, \"Source\": \"Canada Energy Regulator\"}, {\"Date\": \"1992-09-01T00:00:00\", \"Volume\": 5.375831808331781, \"Source\": \"Canada Energy Regulator\"}, {\"Date\": \"1992-10-01T00:00:00\", \"Volume\": 5.5776318028597505, \"Source\": \"Canada Energy Regulator\"}, {\"Date\": \"1992-11-01T00:00:00\", \"Volume\": 6.216994542000615, \"Source\": \"Canada Energy Regulator\"}, {\"Date\": \"1992-12-01T00:00:00\", \"Volume\": 6.441779546996193, \"Source\": \"Canada Energy Regulator\"}, {\"Date\": \"1993-01-01T00:00:00\", \"Volume\": 6.261065917782193, \"Source\": \"Canada Energy Regulator\"}, {\"Date\": \"1993-02-01T00:00:00\", \"Volume\": 6.382947494660477, \"Source\": \"Canada Energy Regulator\"}, {\"Date\": \"1993-03-01T00:00:00\", \"Volume\": 6.336502843481091, \"Source\": \"Canada Energy Regulator\"}, {\"Date\": \"1993-04-01T00:00:00\", \"Volume\": 6.003800501556066, \"Source\": \"Canada Energy Regulator\"}, {\"Date\": \"1993-05-01T00:00:00\", \"Volume\": 5.095043296288125, \"Source\": \"Canada Energy Regulator\"}, {\"Date\": \"1993-06-01T00:00:00\", \"Volume\": 5.74130596143817, \"Source\": \"Canada Energy Regulator\"}, {\"Date\": \"1993-07-01T00:00:00\", \"Volume\": 5.957146247011261, \"Source\": \"Canada Energy Regulator\"}, {\"Date\": \"1993-08-01T00:00:00\", \"Volume\": 6.014335595358239, \"Source\": \"Canada Energy Regulator\"}, {\"Date\": \"1993-09-01T00:00:00\", \"Volume\": 5.93049958391933, \"Source\": \"Canada Energy Regulator\"}, {\"Date\": \"1993-10-01T00:00:00\", \"Volume\": 5.945842357473847, \"Source\": \"Canada Energy Regulator\"}, {\"Date\": \"1993-11-01T00:00:00\", \"Volume\": 6.583873473351066, \"Source\": \"Canada Energy Regulator\"}, {\"Date\": \"1993-12-01T00:00:00\", \"Volume\": 6.801127168822774, \"Source\": \"Canada Energy Regulator\"}, {\"Date\": \"1994-01-01T00:00:00\", \"Volume\": 7.220869634868712, \"Source\": \"Canada Energy Regulator\"}, {\"Date\": \"1994-02-01T00:00:00\", \"Volume\": 6.817060657340219, \"Source\": \"Canada Energy Regulator\"}, {\"Date\": \"1994-03-01T00:00:00\", \"Volume\": 6.645954081601976, \"Source\": \"Canada Energy Regulator\"}, {\"Date\": \"1994-04-01T00:00:00\", \"Volume\": 6.748546353457705, \"Source\": \"Canada Energy Regulator\"}, {\"Date\": \"1994-05-01T00:00:00\", \"Volume\": 6.420410178046207, \"Source\": \"Canada Energy Regulator\"}, {\"Date\": \"1994-06-01T00:00:00\", \"Volume\": 6.506470195633224, \"Source\": \"Canada Energy Regulator\"}, {\"Date\": \"1994-07-01T00:00:00\", \"Volume\": 6.741424462591819, \"Source\": \"Canada Energy Regulator\"}, {\"Date\": \"1994-08-01T00:00:00\", \"Volume\": 7.051017918039459, \"Source\": \"Canada Energy Regulator\"}, {\"Date\": \"1994-09-01T00:00:00\", \"Volume\": 6.884083561142208, \"Source\": \"Canada Energy Regulator\"}, {\"Date\": \"1994-10-01T00:00:00\", \"Volume\": 7.157226122839329, \"Source\": \"Canada Energy Regulator\"}, {\"Date\": \"1994-11-01T00:00:00\", \"Volume\": 7.188337138777023, \"Source\": \"Canada Energy Regulator\"}, {\"Date\": \"1994-12-01T00:00:00\", \"Volume\": 7.78496653651012, \"Source\": \"Canada Energy Regulator\"}, {\"Date\": \"1995-01-01T00:00:00\", \"Volume\": 8.068132610090261, \"Source\": \"Canada Energy Regulator\"}, {\"Date\": \"1995-02-01T00:00:00\", \"Volume\": 8.065359440949761, \"Source\": \"Canada Energy Regulator\"}, {\"Date\": \"1995-03-01T00:00:00\", \"Volume\": 7.991920031159589, \"Source\": \"Canada Energy Regulator\"}, {\"Date\": \"1995-04-01T00:00:00\", \"Volume\": 7.47136433040194, \"Source\": \"Canada Energy Regulator\"}, {\"Date\": \"1995-05-01T00:00:00\", \"Volume\": 7.120244060829522, \"Source\": \"Canada Energy Regulator\"}, {\"Date\": \"1995-06-01T00:00:00\", \"Volume\": 7.253738218892321, \"Source\": \"Canada Energy Regulator\"}, {\"Date\": \"1995-07-01T00:00:00\", \"Volume\": 7.18304357240997, \"Source\": \"Canada Energy Regulator\"}, {\"Date\": \"1995-08-01T00:00:00\", \"Volume\": 7.342742550403852, \"Source\": \"Canada Energy Regulator\"}, {\"Date\": \"1995-09-01T00:00:00\", \"Volume\": 7.473209193970783, \"Source\": \"Canada Energy Regulator\"}, {\"Date\": \"1995-10-01T00:00:00\", \"Volume\": 7.514335025987884, \"Source\": \"Canada Energy Regulator\"}, {\"Date\": \"1995-11-01T00:00:00\", \"Volume\": 7.479231008553189, \"Source\": \"Canada Energy Regulator\"}, {\"Date\": \"1995-12-01T00:00:00\", \"Volume\": 8.050643306509462, \"Source\": \"Canada Energy Regulator\"}, {\"Date\": \"1996-01-01T00:00:00\", \"Volume\": 7.959531501120796, \"Source\": \"Canada Energy Regulator\"}, {\"Date\": \"1996-02-01T00:00:00\", \"Volume\": 7.742006717992155, \"Source\": \"Canada Energy Regulator\"}, {\"Date\": \"1996-03-01T00:00:00\", \"Volume\": 7.612722462106811, \"Source\": \"Canada Energy Regulator\"}, {\"Date\": \"1996-04-01T00:00:00\", \"Volume\": 7.610411595095143, \"Source\": \"Canada Energy Regulator\"}, {\"Date\": \"1996-05-01T00:00:00\", \"Volume\": 7.742024305646022, \"Source\": \"Canada Energy Regulator\"}, {\"Date\": \"1996-06-01T00:00:00\", \"Volume\": 7.577478315795817, \"Source\": \"Canada Energy Regulator\"}, {\"Date\": \"1996-07-01T00:00:00\", \"Volume\": 7.359133561348698, \"Source\": \"Canada Energy Regulator\"}, {\"Date\": \"1996-08-01T00:00:00\", \"Volume\": 7.645160971475182, \"Source\": \"Canada Energy Regulator\"}, {\"Date\": \"1996-09-01T00:00:00\", \"Volume\": 7.763895870634681, \"Source\": \"Canada Energy Regulator\"}, {\"Date\": \"1996-10-01T00:00:00\", \"Volume\": 7.853861317142201, \"Source\": \"Canada Energy Regulator\"}, {\"Date\": \"1996-11-01T00:00:00\", \"Volume\": 8.14427585489516, \"Source\": \"Canada Energy Regulator\"}, {\"Date\": \"1996-12-01T00:00:00\", \"Volume\": 8.45792963456991, \"Source\": \"Canada Energy Regulator\"}, {\"Date\": \"1997-01-01T00:00:00\", \"Volume\": 8.57132730159083, \"Source\": \"Canada Energy Regulator\"}, {\"Date\": \"1997-02-01T00:00:00\", \"Volume\": 8.366731178334005, \"Source\": \"Canada Energy Regulator\"}, {\"Date\": \"1997-03-01T00:00:00\", \"Volume\": 8.231965159909258, \"Source\": \"Canada Energy Regulator\"}, {\"Date\": \"1997-04-01T00:00:00\", \"Volume\": 7.788914356571721, \"Source\": \"Canada Energy Regulator\"}, {\"Date\": \"1997-05-01T00:00:00\", \"Volume\": 7.515830773292395, \"Source\": \"Canada Energy Regulator\"}, {\"Date\": \"1997-06-01T00:00:00\", \"Volume\": 7.644812911962224, \"Source\": \"Canada Energy Regulator\"}, {\"Date\": \"1997-07-01T00:00:00\", \"Volume\": 7.300173427932017, \"Source\": \"Canada Energy Regulator\"}, {\"Date\": \"1997-08-01T00:00:00\", \"Volume\": 7.860023225299938, \"Source\": \"Canada Energy Regulator\"}, {\"Date\": \"1997-09-01T00:00:00\", \"Volume\": 7.9366459520622366, \"Source\": \"Canada Energy Regulator\"}, {\"Date\": \"1997-10-01T00:00:00\", \"Volume\": 8.004335322515963, \"Source\": \"Canada Energy Regulator\"}, {\"Date\": \"1997-11-01T00:00:00\", \"Volume\": 8.501747807104248, \"Source\": \"Canada Energy Regulator\"}, {\"Date\": \"1997-12-01T00:00:00\", \"Volume\": 8.405545409881974, \"Source\": \"Canada Energy Regulator\"}, {\"Date\": \"1998-01-01T00:00:00\", \"Volume\": 9.137430163309991, \"Source\": \"Canada Energy Regulator\"}, {\"Date\": \"1998-02-01T00:00:00\", \"Volume\": 8.599314377153863, \"Source\": \"Canada Energy Regulator\"}, {\"Date\": \"1998-03-01T00:00:00\", \"Volume\": 8.58217404594937, \"Source\": \"Canada Energy Regulator\"}, {\"Date\": \"1998-04-01T00:00:00\", \"Volume\": 8.29736944292258, \"Source\": \"Canada Energy Regulator\"}, {\"Date\": \"1998-05-01T00:00:00\", \"Volume\": 8.012287604361031, \"Source\": \"Canada Energy Regulator\"}, {\"Date\": \"1998-06-01T00:00:00\", \"Volume\": 8.281909104259274, \"Source\": \"Canada Energy Regulator\"}, {\"Date\": \"1998-07-01T00:00:00\", \"Volume\": 8.492439547444402, \"Source\": \"Canada Energy Regulator\"}, {\"Date\": \"1998-08-01T00:00:00\", \"Volume\": 8.924943368147215, \"Source\": \"Canada Energy Regulator\"}, {\"Date\": \"1998-09-01T00:00:00\", \"Volume\": 8.715937278192287, \"Source\": \"Canada Energy Regulator\"}, {\"Date\": \"1998-10-01T00:00:00\", \"Volume\": 8.526672222506653, \"Source\": \"Canada Energy Regulator\"}, {\"Date\": \"1998-11-01T00:00:00\", \"Volume\": 8.174055040318406, \"Source\": \"Canada Energy Regulator\"}, {\"Date\": \"1998-12-01T00:00:00\", \"Volume\": 8.534696245016187, \"Source\": \"Canada Energy Regulator\"}, {\"Date\": \"1999-01-01T00:00:00\", \"Volume\": 9.261710069237257, \"Source\": \"Canada Energy Regulator\"}, {\"Date\": \"1999-02-01T00:00:00\", \"Volume\": 9.19617364805385, \"Source\": \"Canada Energy Regulator\"}, {\"Date\": \"1999-03-01T00:00:00\", \"Volume\": 8.884704484943935, \"Source\": \"Canada Energy Regulator\"}, {\"Date\": \"1999-04-01T00:00:00\", \"Volume\": 8.952224631316755, \"Source\": \"Canada Energy Regulator\"}, {\"Date\": \"1999-05-01T00:00:00\", \"Volume\": 8.944353226252838, \"Source\": \"Canada Energy Regulator\"}, {\"Date\": \"1999-06-01T00:00:00\", \"Volume\": 8.808318483395368, \"Source\": \"Canada Energy Regulator\"}, {\"Date\": \"1999-07-01T00:00:00\", \"Volume\": 8.97603186533562, \"Source\": \"Canada Energy Regulator\"}, {\"Date\": \"1999-08-01T00:00:00\", \"Volume\": 9.385223648219128, \"Source\": \"Canada Energy Regulator\"}, {\"Date\": \"1999-09-01T00:00:00\", \"Volume\": 9.498592444746935, \"Source\": \"Canada Energy Regulator\"}, {\"Date\": \"1999-10-01T00:00:00\", \"Volume\": 9.416607011836891, \"Source\": \"Canada Energy Regulator\"}, {\"Date\": \"1999-11-01T00:00:00\", \"Volume\": 9.683565719565394, \"Source\": \"Canada Energy Regulator\"}, {\"Date\": \"1999-12-01T00:00:00\", \"Volume\": 9.869518040750153, \"Source\": \"Canada Energy Regulator\"}, {\"Date\": \"2000-01-01T00:00:00\", \"Volume\": 9.891218081781261, \"Source\": \"Canada Energy Regulator\"}, {\"Date\": \"2000-02-01T00:00:00\", \"Volume\": 10.05433898973224, \"Source\": \"Canada Energy Regulator\"}, {\"Date\": \"2000-03-01T00:00:00\", \"Volume\": 9.69331767822977, \"Source\": \"Canada Energy Regulator\"}, {\"Date\": \"2000-04-01T00:00:00\", \"Volume\": 8.990914085460334, \"Source\": \"Canada Energy Regulator\"}, {\"Date\": \"2000-05-01T00:00:00\", \"Volume\": 9.027291310278782, \"Source\": \"Canada Energy Regulator\"}, {\"Date\": \"2000-06-01T00:00:00\", \"Volume\": 9.41130376807174, \"Source\": \"Canada Energy Regulator\"}, {\"Date\": \"2000-07-01T00:00:00\", \"Volume\": 9.497110436121291, \"Source\": \"Canada Energy Regulator\"}, {\"Date\": \"2000-08-01T00:00:00\", \"Volume\": 9.467673337743753, \"Source\": \"Canada Energy Regulator\"}, {\"Date\": \"2000-09-01T00:00:00\", \"Volume\": 9.430015384159187, \"Source\": \"Canada Energy Regulator\"}, {\"Date\": \"2000-10-01T00:00:00\", \"Volume\": 9.76771061783698, \"Source\": \"Canada Energy Regulator\"}, {\"Date\": \"2000-11-01T00:00:00\", \"Volume\": 10.88269071297588, \"Source\": \"Canada Energy Regulator\"}, {\"Date\": \"2000-12-01T00:00:00\", \"Volume\": 11.609996521830388, \"Source\": \"Canada Energy Regulator\"}, {\"Date\": \"2001-01-01T00:00:00\", \"Volume\": 11.915939543299382, \"Source\": \"Canada Energy Regulator\"}, {\"Date\": \"2001-02-01T00:00:00\", \"Volume\": 11.229164779746203, \"Source\": \"Canada Energy Regulator\"}, {\"Date\": \"2001-03-01T00:00:00\", \"Volume\": 10.504018177877311, \"Source\": \"Canada Energy Regulator\"}, {\"Date\": \"2001-04-01T00:00:00\", \"Volume\": 9.611816611032348, \"Source\": \"Canada Energy Regulator\"}, {\"Date\": \"2001-05-01T00:00:00\", \"Volume\": 9.610147575785017, \"Source\": \"Canada Energy Regulator\"}, {\"Date\": \"2001-06-01T00:00:00\", \"Volume\": 9.66625331476032, \"Source\": \"Canada Energy Regulator\"}, {\"Date\": \"2001-07-01T00:00:00\", \"Volume\": 10.591231384550186, \"Source\": \"Canada Energy Regulator\"}, {\"Date\": \"2001-08-01T00:00:00\", \"Volume\": 10.694882754345937, \"Source\": \"Canada Energy Regulator\"}, {\"Date\": \"2001-09-01T00:00:00\", \"Volume\": 9.610421761772166, \"Source\": \"Canada Energy Regulator\"}, {\"Date\": \"2001-10-01T00:00:00\", \"Volume\": 10.260722245837174, \"Source\": \"Canada Energy Regulator\"}, {\"Date\": \"2001-11-01T00:00:00\", \"Volume\": 9.973940512231081, \"Source\": \"Canada Energy Regulator\"}, {\"Date\": \"2001-12-01T00:00:00\", \"Volume\": 9.710130957003155, \"Source\": \"Canada Energy Regulator\"}, {\"Date\": \"2002-01-01T00:00:00\", \"Volume\": 10.657913170656782, \"Source\": \"Canada Energy Regulator\"}, {\"Date\": \"2002-02-01T00:00:00\", \"Volume\": 11.186280982141348, \"Source\": \"Canada Energy Regulator\"}, {\"Date\": \"2002-03-01T00:00:00\", \"Volume\": 10.575540904112751, \"Source\": \"Canada Energy Regulator\"}, {\"Date\": \"2002-04-01T00:00:00\", \"Volume\": 9.565681416820578, \"Source\": \"Canada Energy Regulator\"}, {\"Date\": \"2002-05-01T00:00:00\", \"Volume\": 9.25097788219372, \"Source\": \"Canada Energy Regulator\"}, {\"Date\": \"2002-06-01T00:00:00\", \"Volume\": 9.674821282996987, \"Source\": \"Canada Energy Regulator\"}, {\"Date\": \"2002-07-01T00:00:00\", \"Volume\": 10.028686370130085, \"Source\": \"Canada Energy Regulator\"}, {\"Date\": \"2002-08-01T00:00:00\", \"Volume\": 10.509701774741057, \"Source\": \"Canada Energy Regulator\"}, {\"Date\": \"2002-09-01T00:00:00\", \"Volume\": 10.476953896473105, \"Source\": \"Canada Energy Regulator\"}, {\"Date\": \"2002-10-01T00:00:00\", \"Volume\": 10.38404391284789, \"Source\": \"Canada Energy Regulator\"}, {\"Date\": \"2002-11-01T00:00:00\", \"Volume\": 10.650605164389521, \"Source\": \"Canada Energy Regulator\"}, {\"Date\": \"2002-12-01T00:00:00\", \"Volume\": 11.36670171179147, \"Source\": \"Canada Energy Regulator\"}, {\"Date\": \"2003-01-01T00:00:00\", \"Volume\": 10.716291828906849, \"Source\": \"Canada Energy Regulator\"}, {\"Date\": \"2003-02-01T00:00:00\", \"Volume\": 10.640815385651914, \"Source\": \"Canada Energy Regulator\"}, {\"Date\": \"2003-03-01T00:00:00\", \"Volume\": 9.930644325454645, \"Source\": \"Canada Energy Regulator\"}, {\"Date\": \"2003-04-01T00:00:00\", \"Volume\": 9.518577102360549, \"Source\": \"Canada Energy Regulator\"}, {\"Date\": \"2003-05-01T00:00:00\", \"Volume\": 8.84007208957462, \"Source\": \"Canada Energy Regulator\"}, {\"Date\": \"2003-06-01T00:00:00\", \"Volume\": 8.748737425797378, \"Source\": \"Canada Energy Regulator\"}, {\"Date\": \"2003-07-01T00:00:00\", \"Volume\": 9.415785626778373, \"Source\": \"Canada Energy Regulator\"}, {\"Date\": \"2003-08-01T00:00:00\", \"Volume\": 9.590750733485661, \"Source\": \"Canada Energy Regulator\"}, {\"Date\": \"2003-09-01T00:00:00\", \"Volume\": 9.34873137756591, \"Source\": \"Canada Energy Regulator\"}, {\"Date\": \"2003-10-01T00:00:00\", \"Volume\": 9.115776223057622, \"Source\": \"Canada Energy Regulator\"}, {\"Date\": \"2003-11-01T00:00:00\", \"Volume\": 8.982815079911965, \"Source\": \"Canada Energy Regulator\"}, {\"Date\": \"2003-12-01T00:00:00\", \"Volume\": 10.71486159335515, \"Source\": \"Canada Energy Regulator\"}, {\"Date\": \"2004-01-01T00:00:00\", \"Volume\": 10.36550034945675, \"Source\": \"Canada Energy Regulator\"}, {\"Date\": \"2004-02-01T00:00:00\", \"Volume\": 10.400612777224543, \"Source\": \"Canada Energy Regulator\"}, {\"Date\": \"2004-03-01T00:00:00\", \"Volume\": 9.695696154554625, \"Source\": \"Canada Energy Regulator\"}, {\"Date\": \"2004-04-01T00:00:00\", \"Volume\": 9.30821914648864, \"Source\": \"Canada Energy Regulator\"}, {\"Date\": \"2004-05-01T00:00:00\", \"Volume\": 9.144316549692181, \"Source\": \"Canada Energy Regulator\"}, {\"Date\": \"2004-06-01T00:00:00\", \"Volume\": 9.52097278389975, \"Source\": \"Canada Energy Regulator\"}, {\"Date\": \"2004-07-01T00:00:00\", \"Volume\": 9.546009645315976, \"Source\": \"Canada Energy Regulator\"}, {\"Date\": \"2004-08-01T00:00:00\", \"Volume\": 9.607396890673057, \"Source\": \"Canada Energy Regulator\"}, {\"Date\": \"2004-09-01T00:00:00\", \"Volume\": 9.603236168612458, \"Source\": \"Canada Energy Regulator\"}, {\"Date\": \"2004-10-01T00:00:00\", \"Volume\": 9.14114233274951, \"Source\": \"Canada Energy Regulator\"}, {\"Date\": \"2004-11-01T00:00:00\", \"Volume\": 10.631144708997695, \"Source\": \"Canada Energy Regulator\"}, {\"Date\": \"2004-12-01T00:00:00\", \"Volume\": 11.316459321722311, \"Source\": \"Canada Energy Regulator\"}, {\"Date\": \"2005-01-01T00:00:00\", \"Volume\": 11.323810667322094, \"Source\": \"Canada Energy Regulator\"}, {\"Date\": \"2005-02-01T00:00:00\", \"Volume\": 10.994868942153222, \"Source\": \"Canada Energy Regulator\"}, {\"Date\": \"2005-03-01T00:00:00\", \"Volume\": 10.932531514876782, \"Source\": \"Canada Energy Regulator\"}, {\"Date\": \"2005-04-01T00:00:00\", \"Volume\": 9.321822230945484, \"Source\": \"Canada Energy Regulator\"}, {\"Date\": \"2005-05-01T00:00:00\", \"Volume\": 9.235015219952775, \"Source\": \"Canada Energy Regulator\"}, {\"Date\": \"2005-06-01T00:00:00\", \"Volume\": 8.744328688668109, \"Source\": \"Canada Energy Regulator\"}, {\"Date\": \"2005-07-01T00:00:00\", \"Volume\": 9.926518178218934, \"Source\": \"Canada Energy Regulator\"}, {\"Date\": \"2005-08-01T00:00:00\", \"Volume\": 10.335974046459528, \"Source\": \"Canada Energy Regulator\"}, {\"Date\": \"2005-09-01T00:00:00\", \"Volume\": 10.05220378021527, \"Source\": \"Canada Energy Regulator\"}, {\"Date\": \"2005-10-01T00:00:00\", \"Volume\": 9.838295392163166, \"Source\": \"Canada Energy Regulator\"}, {\"Date\": \"2005-11-01T00:00:00\", \"Volume\": 9.506841961829776, \"Source\": \"Canada Energy Regulator\"}, {\"Date\": \"2005-12-01T00:00:00\", \"Volume\": 11.063276962783585, \"Source\": \"Canada Energy Regulator\"}, {\"Date\": \"2006-01-01T00:00:00\", \"Volume\": 9.549916368605084, \"Source\": \"Canada Energy Regulator\"}, {\"Date\": \"2006-02-01T00:00:00\", \"Volume\": 9.61982206751884, \"Source\": \"Canada Energy Regulator\"}, {\"Date\": \"2006-03-01T00:00:00\", \"Volume\": 9.857478424507596, \"Source\": \"Canada Energy Regulator\"}, {\"Date\": \"2006-04-01T00:00:00\", \"Volume\": 9.31256645994423, \"Source\": \"Canada Energy Regulator\"}, {\"Date\": \"2006-05-01T00:00:00\", \"Volume\": 9.18785040258583, \"Source\": \"Canada Energy Regulator\"}, {\"Date\": \"2006-06-01T00:00:00\", \"Volume\": 9.452828384726827, \"Source\": \"Canada Energy Regulator\"}, {\"Date\": \"2006-07-01T00:00:00\", \"Volume\": 10.039610840715865, \"Source\": \"Canada Energy Regulator\"}, {\"Date\": \"2006-08-01T00:00:00\", \"Volume\": 10.203931863723165, \"Source\": \"Canada Energy Regulator\"}, {\"Date\": \"2006-09-01T00:00:00\", \"Volume\": 9.554860212074058, \"Source\": \"Canada Energy Regulator\"}, {\"Date\": \"2006-10-01T00:00:00\", \"Volume\": 9.680839617435964, \"Source\": \"Canada Energy Regulator\"}, {\"Date\": \"2006-11-01T00:00:00\", \"Volume\": 9.254496949879224, \"Source\": \"Canada Energy Regulator\"}, {\"Date\": \"2006-12-01T00:00:00\", \"Volume\": 10.070389347176349, \"Source\": \"Canada Energy Regulator\"}, {\"Date\": \"2007-01-01T00:00:00\", \"Volume\": 10.834238024866089, \"Source\": \"Canada Energy Regulator\"}, {\"Date\": \"2007-02-01T00:00:00\", \"Volume\": 11.343433756206917, \"Source\": \"Canada Energy Regulator\"}, {\"Date\": \"2007-03-01T00:00:00\", \"Volume\": 9.97385151474833, \"Source\": \"Canada Energy Regulator\"}, {\"Date\": \"2007-04-01T00:00:00\", \"Volume\": 9.469833615505689, \"Source\": \"Canada Energy Regulator\"}, {\"Date\": \"2007-05-01T00:00:00\", \"Volume\": 9.367849508902129, \"Source\": \"Canada Energy Regulator\"}, {\"Date\": \"2007-06-01T00:00:00\", \"Volume\": 9.712680633374562, \"Source\": \"Canada Energy Regulator\"}, {\"Date\": \"2007-07-01T00:00:00\", \"Volume\": 10.248090464955117, \"Source\": \"Canada Energy Regulator\"}, {\"Date\": \"2007-08-01T00:00:00\", \"Volume\": 10.896936780668879, \"Source\": \"Canada Energy Regulator\"}, {\"Date\": \"2007-09-01T00:00:00\", \"Volume\": 10.539378951354337, \"Source\": \"Canada Energy Regulator\"}, {\"Date\": \"2007-10-01T00:00:00\", \"Volume\": 10.109205884592912, \"Source\": \"Canada Energy Regulator\"}, {\"Date\": \"2007-11-01T00:00:00\", \"Volume\": 10.303013647116522, \"Source\": \"Canada Energy Regulator\"}, {\"Date\": \"2007-12-01T00:00:00\", \"Volume\": 11.973498508887367, \"Source\": \"Canada Energy Regulator\"}, {\"Date\": \"2008-01-01T00:00:00\", \"Volume\": 11.684086795545394, \"Source\": \"Canada Energy Regulator\"}, {\"Date\": \"2008-02-01T00:00:00\", \"Volume\": 11.555050766678464, \"Source\": \"Canada Energy Regulator\"}, {\"Date\": \"2008-03-01T00:00:00\", \"Volume\": 11.421709429037234, \"Source\": \"Canada Energy Regulator\"}, {\"Date\": \"2008-04-01T00:00:00\", \"Volume\": 10.06988923264181, \"Source\": \"Canada Energy Regulator\"}, {\"Date\": \"2008-05-01T00:00:00\", \"Volume\": 8.359959376108563, \"Source\": \"Canada Energy Regulator\"}, {\"Date\": \"2008-06-01T00:00:00\", \"Volume\": 9.126457014489395, \"Source\": \"Canada Energy Regulator\"}, {\"Date\": \"2008-07-01T00:00:00\", \"Volume\": 9.331539835700669, \"Source\": \"Canada Energy Regulator\"}, {\"Date\": \"2008-08-01T00:00:00\", \"Volume\": 9.414111060401721, \"Source\": \"Canada Energy Regulator\"}, {\"Date\": \"2008-09-01T00:00:00\", \"Volume\": 9.33688783425304, \"Source\": \"Canada Energy Regulator\"}, {\"Date\": \"2008-10-01T00:00:00\", \"Volume\": 9.021053033158854, \"Source\": \"Canada Energy Regulator\"}, {\"Date\": \"2008-11-01T00:00:00\", \"Volume\": 9.791692824679421, \"Source\": \"Canada Energy Regulator\"}, {\"Date\": \"2008-12-01T00:00:00\", \"Volume\": 10.461313837462347, \"Source\": \"Canada Energy Regulator\"}, {\"Date\": \"2009-01-01T00:00:00\", \"Volume\": 9.887808461171401, \"Source\": \"Canada Energy Regulator\"}, {\"Date\": \"2009-02-01T00:00:00\", \"Volume\": 11.009784743307543, \"Source\": \"Canada Energy Regulator\"}, {\"Date\": \"2009-03-01T00:00:00\", \"Volume\": 9.53577020674885, \"Source\": \"Canada Energy Regulator\"}, {\"Date\": \"2009-04-01T00:00:00\", \"Volume\": 8.60743232334928, \"Source\": \"Canada Energy Regulator\"}, {\"Date\": \"2009-05-01T00:00:00\", \"Volume\": 6.952019559944128, \"Source\": \"Canada Energy Regulator\"}, {\"Date\": \"2009-06-01T00:00:00\", \"Volume\": 7.6529820313397225, \"Source\": \"Canada Energy Regulator\"}, {\"Date\": \"2009-07-01T00:00:00\", \"Volume\": 8.608950702366158, \"Source\": \"Canada Energy Regulator\"}, {\"Date\": \"2009-08-01T00:00:00\", \"Volume\": 9.106963702321154, \"Source\": \"Canada Energy Regulator\"}, {\"Date\": \"2009-09-01T00:00:00\", \"Volume\": 9.459905788086914, \"Source\": \"Canada Energy Regulator\"}, {\"Date\": \"2009-10-01T00:00:00\", \"Volume\": 7.701401552950804, \"Source\": \"Canada Energy Regulator\"}, {\"Date\": \"2009-11-01T00:00:00\", \"Volume\": 8.577111640939327, \"Source\": \"Canada Energy Regulator\"}, {\"Date\": \"2009-12-01T00:00:00\", \"Volume\": 9.963952674323435, \"Source\": \"Canada Energy Regulator\"}, {\"Date\": \"2010-01-01T00:00:00\", \"Volume\": 10.598685343099845, \"Source\": \"Canada Energy Regulator\"}, {\"Date\": \"2010-02-01T00:00:00\", \"Volume\": 9.65334180590039, \"Source\": \"Canada Energy Regulator\"}, {\"Date\": \"2010-03-01T00:00:00\", \"Volume\": 8.857524980213242, \"Source\": \"Canada Energy Regulator\"}, {\"Date\": \"2010-04-01T00:00:00\", \"Volume\": 7.964664970337777, \"Source\": \"Canada Energy Regulator\"}, {\"Date\": \"2010-05-01T00:00:00\", \"Volume\": 8.417004040730296, \"Source\": \"Canada Energy Regulator\"}, {\"Date\": \"2010-06-01T00:00:00\", \"Volume\": 8.18794257451327, \"Source\": \"Canada Energy Regulator\"}, {\"Date\": \"2010-07-01T00:00:00\", \"Volume\": 8.870388813676334, \"Source\": \"Canada Energy Regulator\"}, {\"Date\": \"2010-08-01T00:00:00\", \"Volume\": 8.901138571488957, \"Source\": \"Canada Energy Regulator\"}, {\"Date\": \"2010-09-01T00:00:00\", \"Volume\": 8.264789943979727, \"Source\": \"Canada Energy Regulator\"}, {\"Date\": \"2010-10-01T00:00:00\", \"Volume\": 8.211397123477209, \"Source\": \"Canada Energy Regulator\"}, {\"Date\": \"2010-11-01T00:00:00\", \"Volume\": 8.134720397084044, \"Source\": \"Canada Energy Regulator\"}, {\"Date\": \"2010-12-01T00:00:00\", \"Volume\": 10.530983231200436, \"Source\": \"Canada Energy Regulator\"}, {\"Date\": \"2011-01-01T00:00:00\", \"Volume\": 10.722916441575588, \"Source\": \"Canada Energy Regulator\"}, {\"Date\": \"2011-02-01T00:00:00\", \"Volume\": 10.160716492024402, \"Source\": \"Canada Energy Regulator\"}, {\"Date\": \"2011-03-01T00:00:00\", \"Volume\": 9.019670606724691, \"Source\": \"Canada Energy Regulator\"}, {\"Date\": \"2011-04-01T00:00:00\", \"Volume\": 8.412485871378356, \"Source\": \"Canada Energy Regulator\"}, {\"Date\": \"2011-05-01T00:00:00\", \"Volume\": 7.966786538978002, \"Source\": \"Canada Energy Regulator\"}, {\"Date\": \"2011-06-01T00:00:00\", \"Volume\": 8.146480578822812, \"Source\": \"Canada Energy Regulator\"}, {\"Date\": \"2011-07-01T00:00:00\", \"Volume\": 9.025642812295995, \"Source\": \"Canada Energy Regulator\"}, {\"Date\": \"2011-08-01T00:00:00\", \"Volume\": 8.461036620261309, \"Source\": \"Canada Energy Regulator\"}, {\"Date\": \"2011-09-01T00:00:00\", \"Volume\": 8.159740464974856, \"Source\": \"Canada Energy Regulator\"}, {\"Date\": \"2011-10-01T00:00:00\", \"Volume\": 8.149629445233769, \"Source\": \"Canada Energy Regulator\"}, {\"Date\": \"2011-11-01T00:00:00\", \"Volume\": 7.815746328715263, \"Source\": \"Canada Energy Regulator\"}, {\"Date\": \"2011-12-01T00:00:00\", \"Volume\": 8.953236161804305, \"Source\": \"Canada Energy Regulator\"}, {\"Date\": \"2012-01-01T00:00:00\", \"Volume\": 8.835735081227059, \"Source\": \"Canada Energy Regulator\"}, {\"Date\": \"2012-02-01T00:00:00\", \"Volume\": 8.571396435473202, \"Source\": \"Canada Energy Regulator\"}, {\"Date\": \"2012-03-01T00:00:00\", \"Volume\": 8.383281134758299, \"Source\": \"Canada Energy Regulator\"}, {\"Date\": \"2012-04-01T00:00:00\", \"Volume\": 8.305614133981507, \"Source\": \"Canada Energy Regulator\"}, {\"Date\": \"2012-05-01T00:00:00\", \"Volume\": 8.167398524040596, \"Source\": \"Canada Energy Regulator\"}, {\"Date\": \"2012-06-01T00:00:00\", \"Volume\": 8.405664556264558, \"Source\": \"Canada Energy Regulator\"}, {\"Date\": \"2012-07-01T00:00:00\", \"Volume\": 9.177392963616416, \"Source\": \"Canada Energy Regulator\"}, {\"Date\": \"2012-08-01T00:00:00\", \"Volume\": 8.821520890932735, \"Source\": \"Canada Energy Regulator\"}, {\"Date\": \"2012-09-01T00:00:00\", \"Volume\": 8.44018962163135, \"Source\": \"Canada Energy Regulator\"}, {\"Date\": \"2012-10-01T00:00:00\", \"Volume\": 8.149429340867048, \"Source\": \"Canada Energy Regulator\"}, {\"Date\": \"2012-11-01T00:00:00\", \"Volume\": 7.444207127907858, \"Source\": \"Canada Energy Regulator\"}, {\"Date\": \"2012-12-01T00:00:00\", \"Volume\": 7.745854303077934, \"Source\": \"Canada Energy Regulator\"}, {\"Date\": \"2013-01-01T00:00:00\", \"Volume\": 8.54858755280227, \"Source\": \"Canada Energy Regulator\"}, {\"Date\": \"2013-02-01T00:00:00\", \"Volume\": 8.248424522001022, \"Source\": \"Canada Energy Regulator\"}, {\"Date\": \"2013-03-01T00:00:00\", \"Volume\": 7.917278475667799, \"Source\": \"Canada Energy Regulator\"}, {\"Date\": \"2013-04-01T00:00:00\", \"Volume\": 7.326180587631577, \"Source\": \"Canada Energy Regulator\"}, {\"Date\": \"2013-05-01T00:00:00\", \"Volume\": 7.457146824709226, \"Source\": \"Canada Energy Regulator\"}, {\"Date\": \"2013-06-01T00:00:00\", \"Volume\": 7.771521385598053, \"Source\": \"Canada Energy Regulator\"}, {\"Date\": \"2013-07-01T00:00:00\", \"Volume\": 7.551780352235046, \"Source\": \"Canada Energy Regulator\"}, {\"Date\": \"2013-08-01T00:00:00\", \"Volume\": 7.564824463856962, \"Source\": \"Canada Energy Regulator\"}, {\"Date\": \"2013-09-01T00:00:00\", \"Volume\": 7.7269609740665, \"Source\": \"Canada Energy Regulator\"}, {\"Date\": \"2013-10-01T00:00:00\", \"Volume\": 6.972424602896065, \"Source\": \"Canada Energy Regulator\"}, {\"Date\": \"2013-11-01T00:00:00\", \"Volume\": 7.7652405856276605, \"Source\": \"Canada Energy Regulator\"}, {\"Date\": \"2013-12-01T00:00:00\", \"Volume\": 9.044559441688644, \"Source\": \"Canada Energy Regulator\"}, {\"Date\": \"2014-01-01T00:00:00\", \"Volume\": 9.434077247023513, \"Source\": \"Canada Energy Regulator\"}, {\"Date\": \"2014-02-01T00:00:00\", \"Volume\": 8.82204363452551, \"Source\": \"Canada Energy Regulator\"}, {\"Date\": \"2014-03-01T00:00:00\", \"Volume\": 7.625823437784402, \"Source\": \"Canada Energy Regulator\"}, {\"Date\": \"2014-04-01T00:00:00\", \"Volume\": 6.700848312739927, \"Source\": \"Canada Energy Regulator\"}, {\"Date\": \"2014-05-01T00:00:00\", \"Volume\": 6.698036139423495, \"Source\": \"Canada Energy Regulator\"}, {\"Date\": \"2014-06-01T00:00:00\", \"Volume\": 6.6585182494205934, \"Source\": \"Canada Energy Regulator\"}, {\"Date\": \"2014-07-01T00:00:00\", \"Volume\": 6.498780659047093, \"Source\": \"Canada Energy Regulator\"}, {\"Date\": \"2014-08-01T00:00:00\", \"Volume\": 6.762605476713071, \"Source\": \"Canada Energy Regulator\"}, {\"Date\": \"2014-09-01T00:00:00\", \"Volume\": 6.71061956255048, \"Source\": \"Canada Energy Regulator\"}, {\"Date\": \"2014-10-01T00:00:00\", \"Volume\": 7.011609264690757, \"Source\": \"Canada Energy Regulator\"}, {\"Date\": \"2014-11-01T00:00:00\", \"Volume\": 7.6687521092901285, \"Source\": \"Canada Energy Regulator\"}, {\"Date\": \"2014-12-01T00:00:00\", \"Volume\": 8.047701707473363, \"Source\": \"Canada Energy Regulator\"}, {\"Date\": \"2015-01-01T00:00:00\", \"Volume\": 8.788688810340958, \"Source\": \"Canada Energy Regulator\"}, {\"Date\": \"2015-02-01T00:00:00\", \"Volume\": 8.759792274934178, \"Source\": \"Canada Energy Regulator\"}, {\"Date\": \"2015-03-01T00:00:00\", \"Volume\": 8.132185992465589, \"Source\": \"Canada Energy Regulator\"}, {\"Date\": \"2015-04-01T00:00:00\", \"Volume\": 6.923408590223138, \"Source\": \"Canada Energy Regulator\"}, {\"Date\": \"2015-05-01T00:00:00\", \"Volume\": 6.665634704696749, \"Source\": \"Canada Energy Regulator\"}, {\"Date\": \"2015-06-01T00:00:00\", \"Volume\": 6.926378387129644, \"Source\": \"Canada Energy Regulator\"}, {\"Date\": \"2015-07-01T00:00:00\", \"Volume\": 6.903777027723691, \"Source\": \"Canada Energy Regulator\"}, {\"Date\": \"2015-08-01T00:00:00\", \"Volume\": 6.606867650976292, \"Source\": \"Canada Energy Regulator\"}, {\"Date\": \"2015-09-01T00:00:00\", \"Volume\": 6.915979428918689, \"Source\": \"Canada Energy Regulator\"}, {\"Date\": \"2015-10-01T00:00:00\", \"Volume\": 7.195681489815375, \"Source\": \"Canada Energy Regulator\"}, {\"Date\": \"2015-11-01T00:00:00\", \"Volume\": 7.222515958968279, \"Source\": \"Canada Energy Regulator\"}, {\"Date\": \"2015-12-01T00:00:00\", \"Volume\": 7.228397302458776, \"Source\": \"Canada Energy Regulator\"}, {\"Date\": \"2016-01-01T00:00:00\", \"Volume\": 8.466194773440932, \"Source\": \"Canada Energy Regulator\"}, {\"Date\": \"2016-02-01T00:00:00\", \"Volume\": 8.312148322993721, \"Source\": \"Canada Energy Regulator\"}, {\"Date\": \"2016-03-01T00:00:00\", \"Volume\": 7.6202588928270085, \"Source\": \"Canada Energy Regulator\"}, {\"Date\": \"2016-04-01T00:00:00\", \"Volume\": 8.044056327652704, \"Source\": \"Canada Energy Regulator\"}, {\"Date\": \"2016-05-01T00:00:00\", \"Volume\": 8.089437050017498, \"Source\": \"Canada Energy Regulator\"}, {\"Date\": \"2016-06-01T00:00:00\", \"Volume\": 8.058118225591265, \"Source\": \"Canada Energy Regulator\"}, {\"Date\": \"2016-07-01T00:00:00\", \"Volume\": 8.575771104307693, \"Source\": \"Canada Energy Regulator\"}, {\"Date\": \"2016-08-01T00:00:00\", \"Volume\": 8.302242484942202, \"Source\": \"Canada Energy Regulator\"}, {\"Date\": \"2016-09-01T00:00:00\", \"Volume\": 8.011319041003478, \"Source\": \"Canada Energy Regulator\"}, {\"Date\": \"2016-10-01T00:00:00\", \"Volume\": 7.403259173314786, \"Source\": \"Canada Energy Regulator\"}, {\"Date\": \"2016-11-01T00:00:00\", \"Volume\": 7.568271908774782, \"Source\": \"Canada Energy Regulator\"}, {\"Date\": \"2016-12-01T00:00:00\", \"Volume\": 9.038179401797642, \"Source\": \"Canada Energy Regulator\"}, {\"Date\": \"2017-01-01T00:00:00\", \"Volume\": 9.080830891099678, \"Source\": \"Canada Energy Regulator\"}, {\"Date\": \"2017-02-01T00:00:00\", \"Volume\": 9.146731666746765, \"Source\": \"Canada Energy Regulator\"}, {\"Date\": \"2017-03-01T00:00:00\", \"Volume\": 8.975111908818207, \"Source\": \"Canada Energy Regulator\"}, {\"Date\": \"2017-04-01T00:00:00\", \"Volume\": 7.967645579478231, \"Source\": \"Canada Energy Regulator\"}, {\"Date\": \"2017-05-01T00:00:00\", \"Volume\": 7.924585078223059, \"Source\": \"Canada Energy Regulator\"}, {\"Date\": \"2017-06-01T00:00:00\", \"Volume\": 7.789410518083978, \"Source\": \"Canada Energy Regulator\"}, {\"Date\": \"2017-07-01T00:00:00\", \"Volume\": 7.89413934208618, \"Source\": \"Canada Energy Regulator\"}, {\"Date\": \"2017-08-01T00:00:00\", \"Volume\": 7.912817362681306, \"Source\": \"Canada Energy Regulator\"}, {\"Date\": \"2017-09-01T00:00:00\", \"Volume\": 7.812454897893145, \"Source\": \"Canada Energy Regulator\"}, {\"Date\": \"2017-10-01T00:00:00\", \"Volume\": 8.841588973467841, \"Source\": \"Canada Energy Regulator\"}, {\"Date\": \"2017-11-01T00:00:00\", \"Volume\": 7.45335708493482, \"Source\": \"Canada Energy Regulator\"}, {\"Date\": \"2017-12-01T00:00:00\", \"Volume\": 7.970949912234975, \"Source\": \"Canada Energy Regulator\"}, {\"Date\": \"2018-01-01T00:00:00\", \"Volume\": 9.093625765757574, \"Source\": \"Canada Energy Regulator\"}, {\"Date\": \"2018-02-01T00:00:00\", \"Volume\": 8.426555007365799, \"Source\": \"Canada Energy Regulator\"}, {\"Date\": \"2018-03-01T00:00:00\", \"Volume\": 8.509716834269183, \"Source\": \"Canada Energy Regulator\"}, {\"Date\": \"2018-04-01T00:00:00\", \"Volume\": 8.07082829005906, \"Source\": \"Canada Energy Regulator\"}, {\"Date\": \"2018-05-01T00:00:00\", \"Volume\": 7.463228670324135, \"Source\": \"Canada Energy Regulator\"}, {\"Date\": \"2018-06-01T00:00:00\", \"Volume\": 7.542389978388751, \"Source\": \"Canada Energy Regulator\"}, {\"Date\": \"2018-07-01T00:00:00\", \"Volume\": 7.767458033650563, \"Source\": \"Canada Energy Regulator\"}, {\"Date\": \"2018-08-01T00:00:00\", \"Volume\": 7.588375598446958, \"Source\": \"Canada Energy Regulator\"}, {\"Date\": \"2018-09-01T00:00:00\", \"Volume\": 7.187645172126315, \"Source\": \"Canada Energy Regulator\"}, {\"Date\": \"2018-10-01T00:00:00\", \"Volume\": 6.745794239813372, \"Source\": \"Canada Energy Regulator\"}, {\"Date\": \"2018-11-01T00:00:00\", \"Volume\": 6.6739155856417804, \"Source\": \"Canada Energy Regulator\"}, {\"Date\": \"2018-12-01T00:00:00\", \"Volume\": 7.47728273479945, \"Source\": \"Canada Energy Regulator\"}, {\"Date\": \"2019-01-01T00:00:00\", \"Volume\": 9.078008564201246, \"Source\": \"Canada Energy Regulator\"}, {\"Date\": \"2019-02-01T00:00:00\", \"Volume\": 8.038652746079475, \"Source\": \"Canada Energy Regulator\"}, {\"Date\": \"2019-03-01T00:00:00\", \"Volume\": 7.89181179938067, \"Source\": \"Canada Energy Regulator\"}, {\"Date\": \"2019-04-01T00:00:00\", \"Volume\": 6.93466101240099, \"Source\": \"Canada Energy Regulator\"}, {\"Date\": \"2019-05-01T00:00:00\", \"Volume\": 6.8008937422132885, \"Source\": \"Canada Energy Regulator\"}, {\"Date\": \"2019-06-01T00:00:00\", \"Volume\": 6.799586864470899, \"Source\": \"Canada Energy Regulator\"}, {\"Date\": \"2019-07-01T00:00:00\", \"Volume\": 7.301765470758143, \"Source\": \"Canada Energy Regulator\"}, {\"Date\": \"2019-08-01T00:00:00\", \"Volume\": 6.995671590531757, \"Source\": \"Canada Energy Regulator\"}, {\"Date\": \"2019-09-01T00:00:00\", \"Volume\": 7.041719230255467, \"Source\": \"Canada Energy Regulator\"}, {\"Date\": \"2019-10-01T00:00:00\", \"Volume\": 6.733217538972034, \"Source\": \"Canada Energy Regulator\"}, {\"Date\": \"2019-11-01T00:00:00\", \"Volume\": 7.442438565066495, \"Source\": \"Canada Energy Regulator\"}, {\"Date\": \"2019-12-01T00:00:00\", \"Volume\": 7.8643924870124335, \"Source\": \"Canada Energy Regulator\"}, {\"Date\": \"2020-01-01T00:00:00\", \"Volume\": 7.802078520741432, \"Source\": \"Canada Energy Regulator\"}, {\"Date\": \"2020-02-01T00:00:00\", \"Volume\": 7.840279573745996, \"Source\": \"Canada Energy Regulator\"}, {\"Date\": \"2016-01-01T00:00:00\", \"Volume\": 8.327098037532258, \"Source\": \"Statistics Canada\"}, {\"Date\": \"2016-02-01T00:00:00\", \"Volume\": 8.130578881393104, \"Source\": \"Statistics Canada\"}, {\"Date\": \"2016-03-01T00:00:00\", \"Volume\": 7.389477943141936, \"Source\": \"Statistics Canada\"}, {\"Date\": \"2016-04-01T00:00:00\", \"Volume\": 7.792918392133333, \"Source\": \"Statistics Canada\"}, {\"Date\": \"2016-05-01T00:00:00\", \"Volume\": 7.6957441093000005, \"Source\": \"Statistics Canada\"}, {\"Date\": \"2016-06-01T00:00:00\", \"Volume\": 7.815858821253333, \"Source\": \"Statistics Canada\"}, {\"Date\": \"2016-07-01T00:00:00\", \"Volume\": 8.150612254690323, \"Source\": \"Statistics Canada\"}, {\"Date\": \"2016-08-01T00:00:00\", \"Volume\": 8.029649154535484, \"Source\": \"Statistics Canada\"}, {\"Date\": \"2016-09-01T00:00:00\", \"Volume\": 7.72645377242, \"Source\": \"Statistics Canada\"}, {\"Date\": \"2016-10-01T00:00:00\", \"Volume\": 7.104140863061291, \"Source\": \"Statistics Canada\"}, {\"Date\": \"2016-11-01T00:00:00\", \"Volume\": 7.37589180846, \"Source\": \"Statistics Canada\"}, {\"Date\": \"2016-12-01T00:00:00\", \"Volume\": 8.752386134529033, \"Source\": \"Statistics Canada\"}, {\"Date\": \"2017-01-01T00:00:00\", \"Volume\": 8.927506035909678, \"Source\": \"Statistics Canada\"}, {\"Date\": \"2017-02-01T00:00:00\", \"Volume\": 8.762352732160714, \"Source\": \"Statistics Canada\"}, {\"Date\": \"2017-03-01T00:00:00\", \"Volume\": 8.892288166538709, \"Source\": \"Statistics Canada\"}, {\"Date\": \"2017-04-01T00:00:00\", \"Volume\": 8.075452472326667, \"Source\": \"Statistics Canada\"}, {\"Date\": \"2017-05-01T00:00:00\", \"Volume\": 7.9469512406064515, \"Source\": \"Statistics Canada\"}, {\"Date\": \"2017-06-01T00:00:00\", \"Volume\": 7.793323334026667, \"Source\": \"Statistics Canada\"}, {\"Date\": \"2017-07-01T00:00:00\", \"Volume\": 7.903761362506451, \"Source\": \"Statistics Canada\"}, {\"Date\": \"2017-08-01T00:00:00\", \"Volume\": 7.778137861135484, \"Source\": \"Statistics Canada\"}, {\"Date\": \"2017-09-01T00:00:00\", \"Volume\": 7.769176319323334, \"Source\": \"Statistics Canada\"}, {\"Date\": \"2017-10-01T00:00:00\", \"Volume\": 7.775988221170968, \"Source\": \"Statistics Canada\"}, {\"Date\": \"2017-11-01T00:00:00\", \"Volume\": 7.769624816013334, \"Source\": \"Statistics Canada\"}, {\"Date\": \"2017-12-01T00:00:00\", \"Volume\": 8.39776389141613, \"Source\": \"Statistics Canada\"}, {\"Date\": \"2018-01-01T00:00:00\", \"Volume\": 8.927216683206453, \"Source\": \"Statistics Canada\"}, {\"Date\": \"2018-02-01T00:00:00\", \"Volume\": 8.139710427785715, \"Source\": \"Statistics Canada\"}, {\"Date\": \"2018-03-01T00:00:00\", \"Volume\": 8.434141449967742, \"Source\": \"Statistics Canada\"}, {\"Date\": \"2018-04-01T00:00:00\", \"Volume\": 8.032979482636668, \"Source\": \"Statistics Canada\"}, {\"Date\": \"2018-05-01T00:00:00\", \"Volume\": 7.308575382993549, \"Source\": \"Statistics Canada\"}, {\"Date\": \"2018-06-01T00:00:00\", \"Volume\": 7.420516640536667, \"Source\": \"Statistics Canada\"}, {\"Date\": \"2018-07-01T00:00:00\", \"Volume\": 7.804003030925807, \"Source\": \"Statistics Canada\"}, {\"Date\": \"2018-08-01T00:00:00\", \"Volume\": 7.563169307948387, \"Source\": \"Statistics Canada\"}, {\"Date\": \"2018-09-01T00:00:00\", \"Volume\": 7.148653485526667, \"Source\": \"Statistics Canada\"}, {\"Date\": \"2018-10-01T00:00:00\", \"Volume\": 6.5308910081677425, \"Source\": \"Statistics Canada\"}, {\"Date\": \"2018-11-01T00:00:00\", \"Volume\": 6.878686729906667, \"Source\": \"Statistics Canada\"}, {\"Date\": \"2018-12-01T00:00:00\", \"Volume\": 7.7628374825645166, \"Source\": \"Statistics Canada\"}, {\"Date\": \"2019-01-01T00:00:00\", \"Volume\": 8.547108618532258, \"Source\": \"Statistics Canada\"}, {\"Date\": \"2019-02-01T00:00:00\", \"Volume\": 7.740612696889285, \"Source\": \"Statistics Canada\"}, {\"Date\": \"2019-03-01T00:00:00\", \"Volume\": 7.855349465541936, \"Source\": \"Statistics Canada\"}, {\"Date\": \"2019-04-01T00:00:00\", \"Volume\": 6.83514252765, \"Source\": \"Statistics Canada\"}, {\"Date\": \"2019-05-01T00:00:00\", \"Volume\": 6.771512842945162, \"Source\": \"Statistics Canada\"}, {\"Date\": \"2019-06-01T00:00:00\", \"Volume\": 6.689502350536666, \"Source\": \"Statistics Canada\"}, {\"Date\": \"2019-07-01T00:00:00\", \"Volume\": 7.135544744832258, \"Source\": \"Statistics Canada\"}, {\"Date\": \"2019-08-01T00:00:00\", \"Volume\": 6.920748208409678, \"Source\": \"Statistics Canada\"}, {\"Date\": \"2019-09-01T00:00:00\", \"Volume\": 6.7680952153866665, \"Source\": \"Statistics Canada\"}, {\"Date\": \"2019-10-01T00:00:00\", \"Volume\": 6.346751048896774, \"Source\": \"Statistics Canada\"}, {\"Date\": \"2019-11-01T00:00:00\", \"Volume\": 7.264659920713335, \"Source\": \"Statistics Canada\"}, {\"Date\": \"2019-12-01T00:00:00\", \"Volume\": 7.710785893132258, \"Source\": \"Statistics Canada\"}, {\"Date\": \"2020-01-01T00:00:00\", \"Volume\": 7.485955425174193, \"Source\": \"Statistics Canada\"}, {\"Date\": \"2020-02-01T00:00:00\", \"Volume\": 7.681760705848276, \"Source\": \"Statistics Canada\"}, {\"Date\": \"1990-01-15T00:00:00\", \"Volume\": 4.191709677419355, \"Source\": \"EIA\"}, {\"Date\": \"1990-02-15T00:00:00\", \"Volume\": 3.8333214285714283, \"Source\": \"EIA\"}, {\"Date\": \"1990-03-15T00:00:00\", \"Volume\": 3.4917096774193546, \"Source\": \"EIA\"}, {\"Date\": \"1990-04-15T00:00:00\", \"Volume\": 3.7739333333333334, \"Source\": \"EIA\"}, {\"Date\": \"1990-05-15T00:00:00\", \"Volume\": 3.800225806451613, \"Source\": \"EIA\"}, {\"Date\": \"1990-06-15T00:00:00\", \"Volume\": 3.8147333333333333, \"Source\": \"EIA\"}, {\"Date\": \"1990-07-15T00:00:00\", \"Volume\": 3.6980645161290324, \"Source\": \"EIA\"}, {\"Date\": \"1990-08-15T00:00:00\", \"Volume\": 3.65741935483871, \"Source\": \"EIA\"}, {\"Date\": \"1990-09-15T00:00:00\", \"Volume\": 3.8148, \"Source\": \"EIA\"}, {\"Date\": \"1990-10-15T00:00:00\", \"Volume\": 4.416451612903225, \"Source\": \"EIA\"}, {\"Date\": \"1990-11-15T00:00:00\", \"Volume\": 4.315433333333333, \"Source\": \"EIA\"}, {\"Date\": \"1990-12-15T00:00:00\", \"Volume\": 4.7820322580645165, \"Source\": \"EIA\"}, {\"Date\": \"1991-01-15T00:00:00\", \"Volume\": 5.025967741935484, \"Source\": \"EIA\"}, {\"Date\": \"1991-02-15T00:00:00\", \"Volume\": 4.7486428571428565, \"Source\": \"EIA\"}, {\"Date\": \"1991-03-15T00:00:00\", \"Volume\": 4.722032258064516, \"Source\": \"EIA\"}, {\"Date\": \"1991-04-15T00:00:00\", \"Volume\": 4.627766666666666, \"Source\": \"EIA\"}, {\"Date\": \"1991-05-15T00:00:00\", \"Volume\": 4.393612903225807, \"Source\": \"EIA\"}, {\"Date\": \"1991-06-15T00:00:00\", \"Volume\": 4.3567, \"Source\": \"EIA\"}, {\"Date\": \"1991-07-15T00:00:00\", \"Volume\": 4.186064516129032, \"Source\": \"EIA\"}, {\"Date\": \"1991-08-15T00:00:00\", \"Volume\": 4.101258064516129, \"Source\": \"EIA\"}, {\"Date\": \"1991-09-15T00:00:00\", \"Volume\": 4.378166666666667, \"Source\": \"EIA\"}, {\"Date\": \"1991-10-15T00:00:00\", \"Volume\": 4.725451612903226, \"Source\": \"EIA\"}, {\"Date\": \"1991-11-15T00:00:00\", \"Volume\": 5.4535, \"Source\": \"EIA\"}, {\"Date\": \"1991-12-15T00:00:00\", \"Volume\": 5.4995161290322585, \"Source\": \"EIA\"}, {\"Date\": \"1992-01-15T00:00:00\", \"Volume\": 5.065354838709677, \"Source\": \"EIA\"}, {\"Date\": \"1992-02-15T00:00:00\", \"Volume\": 5.8678275862068965, \"Source\": \"EIA\"}, {\"Date\": \"1992-03-15T00:00:00\", \"Volume\": 5.741225806451613, \"Source\": \"EIA\"}, {\"Date\": \"1992-04-15T00:00:00\", \"Volume\": 5.787166666666667, \"Source\": \"EIA\"}, {\"Date\": \"1992-05-15T00:00:00\", \"Volume\": 5.622967741935484, \"Source\": \"EIA\"}, {\"Date\": \"1992-06-15T00:00:00\", \"Volume\": 5.324766666666666, \"Source\": \"EIA\"}, {\"Date\": \"1992-07-15T00:00:00\", \"Volume\": 5.394064516129032, \"Source\": \"EIA\"}, {\"Date\": \"1992-08-15T00:00:00\", \"Volume\": 5.556129032258064, \"Source\": \"EIA\"}, {\"Date\": \"1992-09-15T00:00:00\", \"Volume\": 5.4528, \"Source\": \"EIA\"}, {\"Date\": \"1992-10-15T00:00:00\", \"Volume\": 5.609806451612903, \"Source\": \"EIA\"}, {\"Date\": \"1992-11-15T00:00:00\", \"Volume\": 6.761533333333333, \"Source\": \"EIA\"}, {\"Date\": \"1992-12-15T00:00:00\", \"Volume\": 6.508258064516129, \"Source\": \"EIA\"}, {\"Date\": \"1993-01-15T00:00:00\", \"Volume\": 6.288032258064516, \"Source\": \"EIA\"}, {\"Date\": \"1993-02-15T00:00:00\", \"Volume\": 6.53775, \"Source\": \"EIA\"}, {\"Date\": \"1993-03-15T00:00:00\", \"Volume\": 6.428032258064516, \"Source\": \"EIA\"}, {\"Date\": \"1993-04-15T00:00:00\", \"Volume\": 6.031533333333334, \"Source\": \"EIA\"}, {\"Date\": \"1993-05-15T00:00:00\", \"Volume\": 5.357161290322581, \"Source\": \"EIA\"}, {\"Date\": \"1993-06-15T00:00:00\", \"Volume\": 5.8266333333333336, \"Source\": \"EIA\"}, {\"Date\": \"1993-07-15T00:00:00\", \"Volume\": 6.030290322580645, \"Source\": \"EIA\"}, {\"Date\": \"1993-08-15T00:00:00\", \"Volume\": 6.200967741935484, \"Source\": \"EIA\"}, {\"Date\": \"1993-09-15T00:00:00\", \"Volume\": 6.1258333333333335, \"Source\": \"EIA\"}, {\"Date\": \"1993-10-15T00:00:00\", \"Volume\": 6.037, \"Source\": \"EIA\"}, {\"Date\": \"1993-11-15T00:00:00\", \"Volume\": 6.7341999999999995, \"Source\": \"EIA\"}, {\"Date\": \"1993-12-15T00:00:00\", \"Volume\": 6.953645161290323, \"Source\": \"EIA\"}, {\"Date\": \"1994-01-15T00:00:00\", \"Volume\": 7.393741935483871, \"Source\": \"EIA\"}, {\"Date\": \"1994-02-15T00:00:00\", \"Volume\": 6.893821428571428, \"Source\": \"EIA\"}, {\"Date\": \"1994-03-15T00:00:00\", \"Volume\": 6.874064516129033, \"Source\": \"EIA\"}, {\"Date\": \"1994-04-15T00:00:00\", \"Volume\": 6.803766666666666, \"Source\": \"EIA\"}, {\"Date\": \"1994-05-15T00:00:00\", \"Volume\": 6.431193548387097, \"Source\": \"EIA\"}, {\"Date\": \"1994-06-15T00:00:00\", \"Volume\": 6.481933333333333, \"Source\": \"EIA\"}, {\"Date\": \"1994-07-15T00:00:00\", \"Volume\": 6.886645161290323, \"Source\": \"EIA\"}, {\"Date\": \"1994-08-15T00:00:00\", \"Volume\": 7.060612903225807, \"Source\": \"EIA\"}, {\"Date\": \"1994-09-15T00:00:00\", \"Volume\": 6.9165, \"Source\": \"EIA\"}, {\"Date\": \"1994-10-15T00:00:00\", \"Volume\": 7.149258064516129, \"Source\": \"EIA\"}, {\"Date\": \"1994-11-15T00:00:00\", \"Volume\": 7.5273, \"Source\": \"EIA\"}, {\"Date\": \"1994-12-15T00:00:00\", \"Volume\": 7.918612903225807, \"Source\": \"EIA\"}, {\"Date\": \"1995-01-15T00:00:00\", \"Volume\": 8.086, \"Source\": \"EIA\"}, {\"Date\": \"1995-02-15T00:00:00\", \"Volume\": 8.335857142857144, \"Source\": \"EIA\"}, {\"Date\": \"1995-03-15T00:00:00\", \"Volume\": 7.986387096774193, \"Source\": \"EIA\"}, {\"Date\": \"1995-04-15T00:00:00\", \"Volume\": 7.724833333333333, \"Source\": \"EIA\"}, {\"Date\": \"1995-05-15T00:00:00\", \"Volume\": 7.280064516129032, \"Source\": \"EIA\"}, {\"Date\": \"1995-06-15T00:00:00\", \"Volume\": 7.2485333333333335, \"Source\": \"EIA\"}, {\"Date\": \"1995-07-15T00:00:00\", \"Volume\": 7.182322580645161, \"Source\": \"EIA\"}, {\"Date\": \"1995-08-15T00:00:00\", \"Volume\": 7.529645161290323, \"Source\": \"EIA\"}, {\"Date\": \"1995-09-15T00:00:00\", \"Volume\": 7.4612, \"Source\": \"EIA\"}, {\"Date\": \"1995-10-15T00:00:00\", \"Volume\": 7.557548387096775, \"Source\": \"EIA\"}, {\"Date\": \"1995-11-15T00:00:00\", \"Volume\": 7.795233333333334, \"Source\": \"EIA\"}, {\"Date\": \"1995-12-15T00:00:00\", \"Volume\": 8.446064516129033, \"Source\": \"EIA\"}, {\"Date\": \"1996-01-15T00:00:00\", \"Volume\": 8.376, \"Source\": \"EIA\"}, {\"Date\": \"1996-02-15T00:00:00\", \"Volume\": 7.949862068965517, \"Source\": \"EIA\"}, {\"Date\": \"1996-03-15T00:00:00\", \"Volume\": 7.666709677419355, \"Source\": \"EIA\"}, {\"Date\": \"1996-04-15T00:00:00\", \"Volume\": 7.6976, \"Source\": \"EIA\"}, {\"Date\": \"1996-05-15T00:00:00\", \"Volume\": 7.920064516129032, \"Source\": \"EIA\"}, {\"Date\": \"1996-06-15T00:00:00\", \"Volume\": 7.529166666666667, \"Source\": \"EIA\"}, {\"Date\": \"1996-07-15T00:00:00\", \"Volume\": 7.51316129032258, \"Source\": \"EIA\"}, {\"Date\": \"1996-08-15T00:00:00\", \"Volume\": 7.587064516129032, \"Source\": \"EIA\"}, {\"Date\": \"1996-09-15T00:00:00\", \"Volume\": 7.806866666666667, \"Source\": \"EIA\"}, {\"Date\": \"1996-10-15T00:00:00\", \"Volume\": 7.783677419354839, \"Source\": \"EIA\"}, {\"Date\": \"1996-11-15T00:00:00\", \"Volume\": 8.193166666666666, \"Source\": \"EIA\"}, {\"Date\": \"1996-12-15T00:00:00\", \"Volume\": 8.505838709677418, \"Source\": \"EIA\"}, {\"Date\": \"1997-01-15T00:00:00\", \"Volume\": 8.605032258064517, \"Source\": \"EIA\"}, {\"Date\": \"1997-02-15T00:00:00\", \"Volume\": 8.226857142857144, \"Source\": \"EIA\"}, {\"Date\": \"1997-03-15T00:00:00\", \"Volume\": 8.107354838709677, \"Source\": \"EIA\"}, {\"Date\": \"1997-04-15T00:00:00\", \"Volume\": 7.8477, \"Source\": \"EIA\"}, {\"Date\": \"1997-05-15T00:00:00\", \"Volume\": 7.559516129032258, \"Source\": \"EIA\"}, {\"Date\": \"1997-06-15T00:00:00\", \"Volume\": 7.5122, \"Source\": \"EIA\"}, {\"Date\": \"1997-07-15T00:00:00\", \"Volume\": 7.4025483870967745, \"Source\": \"EIA\"}, {\"Date\": \"1997-08-15T00:00:00\", \"Volume\": 7.649741935483871, \"Source\": \"EIA\"}, {\"Date\": \"1997-09-15T00:00:00\", \"Volume\": 7.736333333333333, \"Source\": \"EIA\"}, {\"Date\": \"1997-10-15T00:00:00\", \"Volume\": 7.92716129032258, \"Source\": \"EIA\"}, {\"Date\": \"1997-11-15T00:00:00\", \"Volume\": 8.592733333333333, \"Source\": \"EIA\"}, {\"Date\": \"1997-12-15T00:00:00\", \"Volume\": 8.172193548387096, \"Source\": \"EIA\"}, {\"Date\": \"1998-01-15T00:00:00\", \"Volume\": 8.907032258064516, \"Source\": \"EIA\"}, {\"Date\": \"1998-02-15T00:00:00\", \"Volume\": 8.538964285714286, \"Source\": \"EIA\"}, {\"Date\": \"1998-03-15T00:00:00\", \"Volume\": 8.305967741935483, \"Source\": \"EIA\"}, {\"Date\": \"1998-04-15T00:00:00\", \"Volume\": 8.245433333333333, \"Source\": \"EIA\"}, {\"Date\": \"1998-05-15T00:00:00\", \"Volume\": 7.8667096774193555, \"Source\": \"EIA\"}, {\"Date\": \"1998-06-15T00:00:00\", \"Volume\": 7.861566666666667, \"Source\": \"EIA\"}, {\"Date\": \"1998-07-15T00:00:00\", \"Volume\": 8.368129032258064, \"Source\": \"EIA\"}, {\"Date\": \"1998-08-15T00:00:00\", \"Volume\": 8.66241935483871, \"Source\": \"EIA\"}, {\"Date\": \"1998-09-15T00:00:00\", \"Volume\": 8.491733333333334, \"Source\": \"EIA\"}, {\"Date\": \"1998-10-15T00:00:00\", \"Volume\": 8.391451612903225, \"Source\": \"EIA\"}, {\"Date\": \"1998-11-15T00:00:00\", \"Volume\": 8.2657, \"Source\": \"EIA\"}, {\"Date\": \"1998-12-15T00:00:00\", \"Volume\": 8.435322580645161, \"Source\": \"EIA\"}, {\"Date\": \"1999-01-15T00:00:00\", \"Volume\": 9.446225806451613, \"Source\": \"EIA\"}, {\"Date\": \"1999-02-15T00:00:00\", \"Volume\": 9.611642857142856, \"Source\": \"EIA\"}, {\"Date\": \"1999-03-15T00:00:00\", \"Volume\": 9.282870967741935, \"Source\": \"EIA\"}, {\"Date\": \"1999-04-15T00:00:00\", \"Volume\": 8.568833333333334, \"Source\": \"EIA\"}, {\"Date\": \"1999-05-15T00:00:00\", \"Volume\": 8.878032258064517, \"Source\": \"EIA\"}, {\"Date\": \"1999-06-15T00:00:00\", \"Volume\": 8.674666666666665, \"Source\": \"EIA\"}, {\"Date\": \"1999-07-15T00:00:00\", \"Volume\": 8.98141935483871, \"Source\": \"EIA\"}, {\"Date\": \"1999-08-15T00:00:00\", \"Volume\": 9.313451612903226, \"Source\": \"EIA\"}, {\"Date\": \"1999-09-15T00:00:00\", \"Volume\": 9.359933333333332, \"Source\": \"EIA\"}, {\"Date\": \"1999-10-15T00:00:00\", \"Volume\": 9.263774193548386, \"Source\": \"EIA\"}, {\"Date\": \"1999-11-15T00:00:00\", \"Volume\": 9.483799999999999, \"Source\": \"EIA\"}, {\"Date\": \"1999-12-15T00:00:00\", \"Volume\": 9.860096774193549, \"Source\": \"EIA\"}, {\"Date\": \"2000-01-15T00:00:00\", \"Volume\": 10.005838709677418, \"Source\": \"EIA\"}, {\"Date\": \"2000-02-15T00:00:00\", \"Volume\": 9.973172413793103, \"Source\": \"EIA\"}, {\"Date\": \"2000-03-15T00:00:00\", \"Volume\": 9.402225806451614, \"Source\": \"EIA\"}, {\"Date\": \"2000-04-15T00:00:00\", \"Volume\": 9.129366666666666, \"Source\": \"EIA\"}, {\"Date\": \"2000-05-15T00:00:00\", \"Volume\": 8.85858064516129, \"Source\": \"EIA\"}, {\"Date\": \"2000-06-15T00:00:00\", \"Volume\": 9.2843, \"Source\": \"EIA\"}, {\"Date\": \"2000-07-15T00:00:00\", \"Volume\": 9.463, \"Source\": \"EIA\"}, {\"Date\": \"2000-08-15T00:00:00\", \"Volume\": 9.52758064516129, \"Source\": \"EIA\"}, {\"Date\": \"2000-09-15T00:00:00\", \"Volume\": 9.4307, \"Source\": \"EIA\"}, {\"Date\": \"2000-10-15T00:00:00\", \"Volume\": 9.549096774193549, \"Source\": \"EIA\"}, {\"Date\": \"2000-11-15T00:00:00\", \"Volume\": 10.311233333333334, \"Source\": \"EIA\"}, {\"Date\": \"2000-12-15T00:00:00\", \"Volume\": 11.260612903225807, \"Source\": \"EIA\"}, {\"Date\": \"2001-01-15T00:00:00\", \"Volume\": 11.36958064516129, \"Source\": \"EIA\"}, {\"Date\": \"2001-02-15T00:00:00\", \"Volume\": 10.894678571428571, \"Source\": \"EIA\"}, {\"Date\": \"2001-03-15T00:00:00\", \"Volume\": 10.754064516129032, \"Source\": \"EIA\"}, {\"Date\": \"2001-04-15T00:00:00\", \"Volume\": 9.815266666666666, \"Source\": \"EIA\"}, {\"Date\": \"2001-05-15T00:00:00\", \"Volume\": 9.502483870967742, \"Source\": \"EIA\"}, {\"Date\": \"2001-06-15T00:00:00\", \"Volume\": 9.694133333333333, \"Source\": \"EIA\"}, {\"Date\": \"2001-07-15T00:00:00\", \"Volume\": 10.950709677419354, \"Source\": \"EIA\"}, {\"Date\": \"2001-08-15T00:00:00\", \"Volume\": 10.781290322580645, \"Source\": \"EIA\"}, {\"Date\": \"2001-09-15T00:00:00\", \"Volume\": 9.7679, \"Source\": \"EIA\"}, {\"Date\": \"2001-10-15T00:00:00\", \"Volume\": 10.141580645161289, \"Source\": \"EIA\"}, {\"Date\": \"2001-11-15T00:00:00\", \"Volume\": 9.4345, \"Source\": \"EIA\"}, {\"Date\": \"2001-12-15T00:00:00\", \"Volume\": 9.47225806451613, \"Source\": \"EIA\"}, {\"Date\": \"2002-01-15T00:00:00\", \"Volume\": 10.789709677419355, \"Source\": \"EIA\"}, {\"Date\": \"2002-02-15T00:00:00\", \"Volume\": 10.626714285714286, \"Source\": \"EIA\"}, {\"Date\": \"2002-03-15T00:00:00\", \"Volume\": 10.401451612903225, \"Source\": \"EIA\"}, {\"Date\": \"2002-04-15T00:00:00\", \"Volume\": 9.9301, \"Source\": \"EIA\"}, {\"Date\": \"2002-05-15T00:00:00\", \"Volume\": 9.39716129032258, \"Source\": \"EIA\"}, {\"Date\": \"2002-06-15T00:00:00\", \"Volume\": 9.739266666666666, \"Source\": \"EIA\"}, {\"Date\": \"2002-07-15T00:00:00\", \"Volume\": 10.427096774193549, \"Source\": \"EIA\"}, {\"Date\": \"2002-08-15T00:00:00\", \"Volume\": 10.704483870967742, \"Source\": \"EIA\"}, {\"Date\": \"2002-09-15T00:00:00\", \"Volume\": 10.623566666666667, \"Source\": \"EIA\"}, {\"Date\": \"2002-10-15T00:00:00\", \"Volume\": 10.193741935483871, \"Source\": \"EIA\"}, {\"Date\": \"2002-11-15T00:00:00\", \"Volume\": 10.2913, \"Source\": \"EIA\"}, {\"Date\": \"2002-12-15T00:00:00\", \"Volume\": 11.309064516129032, \"Source\": \"EIA\"}, {\"Date\": \"2003-01-15T00:00:00\", \"Volume\": 10.840483870967743, \"Source\": \"EIA\"}, {\"Date\": \"2003-02-15T00:00:00\", \"Volume\": 10.278464285714286, \"Source\": \"EIA\"}, {\"Date\": \"2003-03-15T00:00:00\", \"Volume\": 9.463290322580646, \"Source\": \"EIA\"}, {\"Date\": \"2003-04-15T00:00:00\", \"Volume\": 9.3991, \"Source\": \"EIA\"}, {\"Date\": \"2003-05-15T00:00:00\", \"Volume\": 9.011096774193549, \"Source\": \"EIA\"}, {\"Date\": \"2003-06-15T00:00:00\", \"Volume\": 8.632133333333334, \"Source\": \"EIA\"}, {\"Date\": \"2003-07-15T00:00:00\", \"Volume\": 9.120290322580646, \"Source\": \"EIA\"}, {\"Date\": \"2003-08-15T00:00:00\", \"Volume\": 9.116645161290322, \"Source\": \"EIA\"}, {\"Date\": \"2003-09-15T00:00:00\", \"Volume\": 8.8947, \"Source\": \"EIA\"}, {\"Date\": \"2003-10-15T00:00:00\", \"Volume\": 8.822, \"Source\": \"EIA\"}, {\"Date\": \"2003-11-15T00:00:00\", \"Volume\": 8.999266666666667, \"Source\": \"EIA\"}, {\"Date\": \"2003-12-15T00:00:00\", \"Volume\": 10.454483870967742, \"Source\": \"EIA\"}, {\"Date\": \"2004-01-15T00:00:00\", \"Volume\": 10.31558064516129, \"Source\": \"EIA\"}, {\"Date\": \"2004-02-15T00:00:00\", \"Volume\": 10.240344827586206, \"Source\": \"EIA\"}, {\"Date\": \"2004-03-15T00:00:00\", \"Volume\": 9.67609677419355, \"Source\": \"EIA\"}, {\"Date\": \"2004-04-15T00:00:00\", \"Volume\": 9.301433333333332, \"Source\": \"EIA\"}, {\"Date\": \"2004-05-15T00:00:00\", \"Volume\": 8.81867741935484, \"Source\": \"EIA\"}, {\"Date\": \"2004-06-15T00:00:00\", \"Volume\": 9.491466666666668, \"Source\": \"EIA\"}, {\"Date\": \"2004-07-15T00:00:00\", \"Volume\": 9.663258064516128, \"Source\": \"EIA\"}, {\"Date\": \"2004-08-15T00:00:00\", \"Volume\": 9.701290322580645, \"Source\": \"EIA\"}, {\"Date\": \"2004-09-15T00:00:00\", \"Volume\": 9.5861, \"Source\": \"EIA\"}, {\"Date\": \"2004-10-15T00:00:00\", \"Volume\": 9.28341935483871, \"Source\": \"EIA\"}, {\"Date\": \"2004-11-15T00:00:00\", \"Volume\": 10.916866666666667, \"Source\": \"EIA\"}, {\"Date\": \"2004-12-15T00:00:00\", \"Volume\": 11.273838709677419, \"Source\": \"EIA\"}, {\"Date\": \"2005-01-15T00:00:00\", \"Volume\": 11.199580645161289, \"Source\": \"EIA\"}, {\"Date\": \"2005-02-15T00:00:00\", \"Volume\": 10.819892857142857, \"Source\": \"EIA\"}, {\"Date\": \"2005-03-15T00:00:00\", \"Volume\": 10.75758064516129, \"Source\": \"EIA\"}, {\"Date\": \"2005-04-15T00:00:00\", \"Volume\": 9.283366666666668, \"Source\": \"EIA\"}, {\"Date\": \"2005-05-15T00:00:00\", \"Volume\": 9.070064516129031, \"Source\": \"EIA\"}, {\"Date\": \"2005-06-15T00:00:00\", \"Volume\": 8.8444, \"Source\": \"EIA\"}, {\"Date\": \"2005-07-15T00:00:00\", \"Volume\": 10.731709677419355, \"Source\": \"EIA\"}, {\"Date\": \"2005-08-15T00:00:00\", \"Volume\": 9.941129032258065, \"Source\": \"EIA\"}, {\"Date\": \"2005-09-15T00:00:00\", \"Volume\": 9.7676, \"Source\": \"EIA\"}, {\"Date\": \"2005-10-15T00:00:00\", \"Volume\": 9.865258064516128, \"Source\": \"EIA\"}, {\"Date\": \"2005-11-15T00:00:00\", \"Volume\": 9.9574, \"Source\": \"EIA\"}, {\"Date\": \"2005-12-15T00:00:00\", \"Volume\": 11.39967741935484, \"Source\": \"EIA\"}, {\"Date\": \"2006-01-15T00:00:00\", \"Volume\": 10.306483870967742, \"Source\": \"EIA\"}, {\"Date\": \"2006-02-15T00:00:00\", \"Volume\": 10.065071428571429, \"Source\": \"EIA\"}, {\"Date\": \"2006-03-15T00:00:00\", \"Volume\": 10.14109677419355, \"Source\": \"EIA\"}, {\"Date\": \"2006-04-15T00:00:00\", \"Volume\": 9.112866666666667, \"Source\": \"EIA\"}, {\"Date\": \"2006-05-15T00:00:00\", \"Volume\": 9.13332258064516, \"Source\": \"EIA\"}, {\"Date\": \"2006-06-15T00:00:00\", \"Volume\": 9.546299999999999, \"Source\": \"EIA\"}, {\"Date\": \"2006-07-15T00:00:00\", \"Volume\": 10.108838709677418, \"Source\": \"EIA\"}, {\"Date\": \"2006-08-15T00:00:00\", \"Volume\": 10.091903225806451, \"Source\": \"EIA\"}, {\"Date\": \"2006-09-15T00:00:00\", \"Volume\": 9.674233333333333, \"Source\": \"EIA\"}, {\"Date\": \"2006-10-15T00:00:00\", \"Volume\": 9.561129032258064, \"Source\": \"EIA\"}, {\"Date\": \"2006-11-15T00:00:00\", \"Volume\": 9.682666666666666, \"Source\": \"EIA\"}, {\"Date\": \"2006-12-15T00:00:00\", \"Volume\": 10.58267741935484, \"Source\": \"EIA\"}, {\"Date\": \"2007-01-15T00:00:00\", \"Volume\": 10.825290322580646, \"Source\": \"EIA\"}, {\"Date\": \"2007-02-15T00:00:00\", \"Volume\": 11.4735, \"Source\": \"EIA\"}, {\"Date\": \"2007-03-15T00:00:00\", \"Volume\": 9.955451612903225, \"Source\": \"EIA\"}, {\"Date\": \"2007-04-15T00:00:00\", \"Volume\": 9.29, \"Source\": \"EIA\"}, {\"Date\": \"2007-05-15T00:00:00\", \"Volume\": 9.133032258064517, \"Source\": \"EIA\"}, {\"Date\": \"2007-06-15T00:00:00\", \"Volume\": 9.706966666666666, \"Source\": \"EIA\"}, {\"Date\": \"2007-07-15T00:00:00\", \"Volume\": 10.156483870967742, \"Source\": \"EIA\"}, {\"Date\": \"2007-08-15T00:00:00\", \"Volume\": 10.796935483870968, \"Source\": \"EIA\"}, {\"Date\": \"2007-09-15T00:00:00\", \"Volume\": 10.592233333333333, \"Source\": \"EIA\"}, {\"Date\": \"2007-10-15T00:00:00\", \"Volume\": 10.118870967741936, \"Source\": \"EIA\"}, {\"Date\": \"2007-11-15T00:00:00\", \"Volume\": 10.368833333333335, \"Source\": \"EIA\"}, {\"Date\": \"2007-12-15T00:00:00\", \"Volume\": 12.00458064516129, \"Source\": \"EIA\"}, {\"Date\": \"2008-01-15T00:00:00\", \"Volume\": 11.61590322580645, \"Source\": \"EIA\"}, {\"Date\": \"2008-02-15T00:00:00\", \"Volume\": 11.24348275862069, \"Source\": \"EIA\"}, {\"Date\": \"2008-03-15T00:00:00\", \"Volume\": 11.022322580645161, \"Source\": \"EIA\"}, {\"Date\": \"2008-04-15T00:00:00\", \"Volume\": 9.6597, \"Source\": \"EIA\"}, {\"Date\": \"2008-05-15T00:00:00\", \"Volume\": 8.433193548387097, \"Source\": \"EIA\"}, {\"Date\": \"2008-06-15T00:00:00\", \"Volume\": 8.373700000000001, \"Source\": \"EIA\"}, {\"Date\": \"2008-07-15T00:00:00\", \"Volume\": 9.29858064516129, \"Source\": \"EIA\"}, {\"Date\": \"2008-08-15T00:00:00\", \"Volume\": 9.319129032258065, \"Source\": \"EIA\"}, {\"Date\": \"2008-09-15T00:00:00\", \"Volume\": 9.1866, \"Source\": \"EIA\"}, {\"Date\": \"2008-10-15T00:00:00\", \"Volume\": 9.279, \"Source\": \"EIA\"}, {\"Date\": \"2008-11-15T00:00:00\", \"Volume\": 9.714233333333334, \"Source\": \"EIA\"}, {\"Date\": \"2008-12-15T00:00:00\", \"Volume\": 10.548064516129033, \"Source\": \"EIA\"}, {\"Date\": \"2009-01-15T00:00:00\", \"Volume\": 10.457709677419354, \"Source\": \"EIA\"}, {\"Date\": \"2009-02-15T00:00:00\", \"Volume\": 10.472785714285713, \"Source\": \"EIA\"}, {\"Date\": \"2009-03-15T00:00:00\", \"Volume\": 9.454, \"Source\": \"EIA\"}, {\"Date\": \"2009-04-15T00:00:00\", \"Volume\": 8.639566666666667, \"Source\": \"EIA\"}, {\"Date\": \"2009-05-15T00:00:00\", \"Volume\": 6.953967741935484, \"Source\": \"EIA\"}, {\"Date\": \"2009-06-15T00:00:00\", \"Volume\": 7.661766666666667, \"Source\": \"EIA\"}, {\"Date\": \"2009-07-15T00:00:00\", \"Volume\": 8.708741935483872, \"Source\": \"EIA\"}, {\"Date\": \"2009-08-15T00:00:00\", \"Volume\": 9.64525806451613, \"Source\": \"EIA\"}, {\"Date\": \"2009-09-15T00:00:00\", \"Volume\": 9.142566666666667, \"Source\": \"EIA\"}, {\"Date\": \"2009-10-15T00:00:00\", \"Volume\": 7.859612903225806, \"Source\": \"EIA\"}, {\"Date\": \"2009-11-15T00:00:00\", \"Volume\": 8.593566666666668, \"Source\": \"EIA\"}, {\"Date\": \"2009-12-15T00:00:00\", \"Volume\": 10.041516129032258, \"Source\": \"EIA\"}, {\"Date\": \"2010-01-15T00:00:00\", \"Volume\": 10.538322580645161, \"Source\": \"EIA\"}, {\"Date\": \"2010-02-15T00:00:00\", \"Volume\": 9.906035714285714, \"Source\": \"EIA\"}, {\"Date\": \"2010-03-15T00:00:00\", \"Volume\": 8.917161290322582, \"Source\": \"EIA\"}, {\"Date\": \"2010-04-15T00:00:00\", \"Volume\": 8.400266666666667, \"Source\": \"EIA\"}, {\"Date\": \"2010-05-15T00:00:00\", \"Volume\": 8.276645161290322, \"Source\": \"EIA\"}, {\"Date\": \"2010-06-15T00:00:00\", \"Volume\": 8.252433333333332, \"Source\": \"EIA\"}, {\"Date\": \"2010-07-15T00:00:00\", \"Volume\": 9.384, \"Source\": \"EIA\"}, {\"Date\": \"2010-08-15T00:00:00\", \"Volume\": 9.091838709677418, \"Source\": \"EIA\"}, {\"Date\": \"2010-09-15T00:00:00\", \"Volume\": 8.326833333333333, \"Source\": \"EIA\"}, {\"Date\": \"2010-10-15T00:00:00\", \"Volume\": 8.292741935483871, \"Source\": \"EIA\"}, {\"Date\": \"2010-11-15T00:00:00\", \"Volume\": 8.052233333333334, \"Source\": \"EIA\"}, {\"Date\": \"2010-12-15T00:00:00\", \"Volume\": 10.384193548387097, \"Source\": \"EIA\"}, {\"Date\": \"2011-01-15T00:00:00\", \"Volume\": 10.695645161290322, \"Source\": \"EIA\"}, {\"Date\": \"2011-02-15T00:00:00\", \"Volume\": 9.954678571428571, \"Source\": \"EIA\"}, {\"Date\": \"2011-03-15T00:00:00\", \"Volume\": 8.921193548387096, \"Source\": \"EIA\"}, {\"Date\": \"2011-04-15T00:00:00\", \"Volume\": 8.155566666666667, \"Source\": \"EIA\"}, {\"Date\": \"2011-05-15T00:00:00\", \"Volume\": 7.609129032258064, \"Source\": \"EIA\"}, {\"Date\": \"2011-06-15T00:00:00\", \"Volume\": 7.9741, \"Source\": \"EIA\"}, {\"Date\": \"2011-07-15T00:00:00\", \"Volume\": 8.80958064516129, \"Source\": \"EIA\"}, {\"Date\": \"2011-08-15T00:00:00\", \"Volume\": 8.062387096774193, \"Source\": \"EIA\"}, {\"Date\": \"2011-09-15T00:00:00\", \"Volume\": 7.713066666666666, \"Source\": \"EIA\"}, {\"Date\": \"2011-10-15T00:00:00\", \"Volume\": 8.08858064516129, \"Source\": \"EIA\"}, {\"Date\": \"2011-11-15T00:00:00\", \"Volume\": 7.777966666666666, \"Source\": \"EIA\"}, {\"Date\": \"2011-12-15T00:00:00\", \"Volume\": 8.772451612903225, \"Source\": \"EIA\"}, {\"Date\": \"2012-01-15T00:00:00\", \"Volume\": 8.557806451612903, \"Source\": \"EIA\"}, {\"Date\": \"2012-02-15T00:00:00\", \"Volume\": 8.611413793103447, \"Source\": \"EIA\"}, {\"Date\": \"2012-03-15T00:00:00\", \"Volume\": 7.930451612903226, \"Source\": \"EIA\"}, {\"Date\": \"2012-04-15T00:00:00\", \"Volume\": 7.847666666666667, \"Source\": \"EIA\"}, {\"Date\": \"2012-05-15T00:00:00\", \"Volume\": 7.831645161290323, \"Source\": \"EIA\"}, {\"Date\": \"2012-06-15T00:00:00\", \"Volume\": 8.381566666666668, \"Source\": \"EIA\"}, {\"Date\": \"2012-07-15T00:00:00\", \"Volume\": 8.573935483870967, \"Source\": \"EIA\"}, {\"Date\": \"2012-08-15T00:00:00\", \"Volume\": 8.458677419354839, \"Source\": \"EIA\"}, {\"Date\": \"2012-09-15T00:00:00\", \"Volume\": 8.216233333333333, \"Source\": \"EIA\"}, {\"Date\": \"2012-10-15T00:00:00\", \"Volume\": 7.839709677419355, \"Source\": \"EIA\"}, {\"Date\": \"2012-11-15T00:00:00\", \"Volume\": 7.3205, \"Source\": \"EIA\"}, {\"Date\": \"2012-12-15T00:00:00\", \"Volume\": 7.585709677419355, \"Source\": \"EIA\"}, {\"Date\": \"2013-01-15T00:00:00\", \"Volume\": 8.534225806451614, \"Source\": \"EIA\"}, {\"Date\": \"2013-02-15T00:00:00\", \"Volume\": 8.052821428571429, \"Source\": \"EIA\"}, {\"Date\": \"2013-03-15T00:00:00\", \"Volume\": 7.741258064516129, \"Source\": \"EIA\"}, {\"Date\": \"2013-04-15T00:00:00\", \"Volume\": 7.1806, \"Source\": \"EIA\"}, {\"Date\": \"2013-05-15T00:00:00\", \"Volume\": 7.372387096774193, \"Source\": \"EIA\"}, {\"Date\": \"2013-06-15T00:00:00\", \"Volume\": 7.620533333333333, \"Source\": \"EIA\"}, {\"Date\": \"2013-07-15T00:00:00\", \"Volume\": 7.351774193548387, \"Source\": \"EIA\"}, {\"Date\": \"2013-08-15T00:00:00\", \"Volume\": 7.331419354838709, \"Source\": \"EIA\"}, {\"Date\": \"2013-09-15T00:00:00\", \"Volume\": 7.559399999999999, \"Source\": \"EIA\"}, {\"Date\": \"2013-10-15T00:00:00\", \"Volume\": 6.926032258064516, \"Source\": \"EIA\"}, {\"Date\": \"2013-11-15T00:00:00\", \"Volume\": 7.195233333333333, \"Source\": \"EIA\"}, {\"Date\": \"2013-12-15T00:00:00\", \"Volume\": 8.719483870967743, \"Source\": \"EIA\"}, {\"Date\": \"2014-01-15T00:00:00\", \"Volume\": 9.246774193548386, \"Source\": \"EIA\"}, {\"Date\": \"2014-02-15T00:00:00\", \"Volume\": 8.622642857142857, \"Source\": \"EIA\"}, {\"Date\": \"2014-03-15T00:00:00\", \"Volume\": 7.462354838709677, \"Source\": \"EIA\"}, {\"Date\": \"2014-04-15T00:00:00\", \"Volume\": 6.583966666666666, \"Source\": \"EIA\"}, {\"Date\": \"2014-05-15T00:00:00\", \"Volume\": 6.571387096774194, \"Source\": \"EIA\"}, {\"Date\": \"2014-06-15T00:00:00\", \"Volume\": 6.390033333333334, \"Source\": \"EIA\"}, {\"Date\": \"2014-07-15T00:00:00\", \"Volume\": 6.2815806451612906, \"Source\": \"EIA\"}, {\"Date\": \"2014-08-15T00:00:00\", \"Volume\": 6.607903225806452, \"Source\": \"EIA\"}, {\"Date\": \"2014-09-15T00:00:00\", \"Volume\": 6.524766666666666, \"Source\": \"EIA\"}, {\"Date\": \"2014-10-15T00:00:00\", \"Volume\": 6.8949354838709676, \"Source\": \"EIA\"}, {\"Date\": \"2014-11-15T00:00:00\", \"Volume\": 7.578733333333334, \"Source\": \"EIA\"}, {\"Date\": \"2014-12-15T00:00:00\", \"Volume\": 7.922677419354839, \"Source\": \"EIA\"}, {\"Date\": \"2015-01-15T00:00:00\", \"Volume\": 8.634387096774192, \"Source\": \"EIA\"}, {\"Date\": \"2015-02-15T00:00:00\", \"Volume\": 8.639892857142858, \"Source\": \"EIA\"}, {\"Date\": \"2015-03-15T00:00:00\", \"Volume\": 7.82283870967742, \"Source\": \"EIA\"}, {\"Date\": \"2015-04-15T00:00:00\", \"Volume\": 6.7377666666666665, \"Source\": \"EIA\"}, {\"Date\": \"2015-05-15T00:00:00\", \"Volume\": 6.533709677419355, \"Source\": \"EIA\"}, {\"Date\": \"2015-06-15T00:00:00\", \"Volume\": 6.7861, \"Source\": \"EIA\"}, {\"Date\": \"2015-07-15T00:00:00\", \"Volume\": 6.764451612903225, \"Source\": \"EIA\"}, {\"Date\": \"2015-08-15T00:00:00\", \"Volume\": 6.534419354838709, \"Source\": \"EIA\"}, {\"Date\": \"2015-09-15T00:00:00\", \"Volume\": 6.768866666666667, \"Source\": \"EIA\"}, {\"Date\": \"2015-10-15T00:00:00\", \"Volume\": 7.0159032258064515, \"Source\": \"EIA\"}, {\"Date\": \"2015-11-15T00:00:00\", \"Volume\": 7.021066666666667, \"Source\": \"EIA\"}, {\"Date\": \"2015-12-15T00:00:00\", \"Volume\": 7.146774193548388, \"Source\": \"EIA\"}, {\"Date\": \"2016-01-15T00:00:00\", \"Volume\": 8.43425806451613, \"Source\": \"EIA\"}, {\"Date\": \"2016-02-15T00:00:00\", \"Volume\": 8.343034482758622, \"Source\": \"EIA\"}, {\"Date\": \"2016-03-15T00:00:00\", \"Volume\": 7.486935483870968, \"Source\": \"EIA\"}, {\"Date\": \"2016-04-15T00:00:00\", \"Volume\": 7.8816999999999995, \"Source\": \"EIA\"}, {\"Date\": \"2016-05-15T00:00:00\", \"Volume\": 7.8392580645161285, \"Source\": \"EIA\"}, {\"Date\": \"2016-06-15T00:00:00\", \"Volume\": 7.804833333333333, \"Source\": \"EIA\"}, {\"Date\": \"2016-07-15T00:00:00\", \"Volume\": 8.35909677419355, \"Source\": \"EIA\"}, {\"Date\": \"2016-08-15T00:00:00\", \"Volume\": 8.186870967741935, \"Source\": \"EIA\"}, {\"Date\": \"2016-09-15T00:00:00\", \"Volume\": 7.8504, \"Source\": \"EIA\"}, {\"Date\": \"2016-10-15T00:00:00\", \"Volume\": 7.277032258064516, \"Source\": \"EIA\"}, {\"Date\": \"2016-11-15T00:00:00\", \"Volume\": 7.395533333333334, \"Source\": \"EIA\"}, {\"Date\": \"2016-12-15T00:00:00\", \"Volume\": 8.769193548387097, \"Source\": \"EIA\"}, {\"Date\": \"2017-01-15T00:00:00\", \"Volume\": 8.98658064516129, \"Source\": \"EIA\"}, {\"Date\": \"2017-02-15T00:00:00\", \"Volume\": 8.786428571428571, \"Source\": \"EIA\"}, {\"Date\": \"2017-03-15T00:00:00\", \"Volume\": 8.889451612903226, \"Source\": \"EIA\"}, {\"Date\": \"2017-04-15T00:00:00\", \"Volume\": 7.7666, \"Source\": \"EIA\"}, {\"Date\": \"2017-05-15T00:00:00\", \"Volume\": 7.701709677419355, \"Source\": \"EIA\"}, {\"Date\": \"2017-06-15T00:00:00\", \"Volume\": 7.802033333333334, \"Source\": \"EIA\"}, {\"Date\": \"2017-07-15T00:00:00\", \"Volume\": 7.910064516129032, \"Source\": \"EIA\"}, {\"Date\": \"2017-08-15T00:00:00\", \"Volume\": 7.73983870967742, \"Source\": \"EIA\"}, {\"Date\": \"2017-09-15T00:00:00\", \"Volume\": 7.556666666666667, \"Source\": \"EIA\"}, {\"Date\": \"2017-10-15T00:00:00\", \"Volume\": 7.702548387096774, \"Source\": \"EIA\"}, {\"Date\": \"2017-11-15T00:00:00\", \"Volume\": 7.794333333333333, \"Source\": \"EIA\"}, {\"Date\": \"2017-12-15T00:00:00\", \"Volume\": 8.486419354838711, \"Source\": \"EIA\"}, {\"Date\": \"2018-01-15T00:00:00\", \"Volume\": 9.132032258064516, \"Source\": \"EIA\"}, {\"Date\": \"2018-02-15T00:00:00\", \"Volume\": 8.207571428571429, \"Source\": \"EIA\"}, {\"Date\": \"2018-03-15T00:00:00\", \"Volume\": 8.520290322580646, \"Source\": \"EIA\"}, {\"Date\": \"2018-04-15T00:00:00\", \"Volume\": 7.9675666666666665, \"Source\": \"EIA\"}, {\"Date\": \"2018-05-15T00:00:00\", \"Volume\": 7.235419354838709, \"Source\": \"EIA\"}, {\"Date\": \"2018-06-15T00:00:00\", \"Volume\": 7.5099, \"Source\": \"EIA\"}, {\"Date\": \"2018-07-15T00:00:00\", \"Volume\": 7.755548387096774, \"Source\": \"EIA\"}, {\"Date\": \"2018-08-15T00:00:00\", \"Volume\": 7.4518387096774195, \"Source\": \"EIA\"}, {\"Date\": \"2018-09-15T00:00:00\", \"Volume\": 7.0276000000000005, \"Source\": \"EIA\"}, {\"Date\": \"2018-10-15T00:00:00\", \"Volume\": 6.740451612903225, \"Source\": \"EIA\"}, {\"Date\": \"2018-11-15T00:00:00\", \"Volume\": 6.985766666666667, \"Source\": \"EIA\"}, {\"Date\": \"2018-12-15T00:00:00\", \"Volume\": 7.815548387096775, \"Source\": \"EIA\"}, {\"Date\": \"2019-01-15T00:00:00\", \"Volume\": 8.912774193548387, \"Source\": \"EIA\"}, {\"Date\": \"2019-02-15T00:00:00\", \"Volume\": 8.058928571428572, \"Source\": \"EIA\"}, {\"Date\": \"2019-03-15T00:00:00\", \"Volume\": 8.042225806451613, \"Source\": \"EIA\"}, {\"Date\": \"2019-04-15T00:00:00\", \"Volume\": 6.787333333333333, \"Source\": \"EIA\"}, {\"Date\": \"2019-05-15T00:00:00\", \"Volume\": 6.694677419354839, \"Source\": \"EIA\"}, {\"Date\": \"2019-06-15T00:00:00\", \"Volume\": 6.7023, \"Source\": \"EIA\"}, {\"Date\": \"2019-07-15T00:00:00\", \"Volume\": 7.338322580645161, \"Source\": \"EIA\"}, {\"Date\": \"2019-08-15T00:00:00\", \"Volume\": 7.001741935483871, \"Source\": \"EIA\"}, {\"Date\": \"2019-09-15T00:00:00\", \"Volume\": 6.940033333333334, \"Source\": \"EIA\"}, {\"Date\": \"2019-10-15T00:00:00\", \"Volume\": 6.609935483870967, \"Source\": \"EIA\"}, {\"Date\": \"2019-11-15T00:00:00\", \"Volume\": 7.361433333333333, \"Source\": \"EIA\"}, {\"Date\": \"2019-12-15T00:00:00\", \"Volume\": 7.89, \"Source\": \"EIA\"}, {\"Date\": \"2020-01-15T00:00:00\", \"Volume\": 8.018225806451612, \"Source\": \"EIA\"}, {\"Date\": \"2020-02-15T00:00:00\", \"Volume\": 8.003551724137932, \"Source\": \"EIA\"}]}}, {\"mode\": \"vega-lite\"});\n",
       "</script>"
      ],
      "text/plain": [
       "alt.Chart(...)"
      ]
     },
     "execution_count": 50,
     "metadata": {},
     "output_type": "execute_result"
    }
   ],
   "source": [
    "#Altair dashboard\n",
    "chart = alt.Chart(can_exports).mark_line().encode(\n",
    "    alt.X('Date'),\n",
    "    alt.Y('Volume', scale=alt.Scale(zero=False), \n",
    "        axis = alt.Axis(title='Volume (billion cubic feet per day)')),\n",
    "        color=alt.Color('Source', legend=alt.Legend(title=\"Sources:\", orient=\"left\", \n",
    "                                                    labelFontSize = 14,\n",
    "                                                    labelFont = 'Courier',\n",
    "                                                    titleFontSize = 14, \n",
    "                                                    titleFont = 'Courier'\n",
    ")),\n",
    "    strokeDash='Source',\n",
    "    tooltip = ['Date', 'Volume', 'Source']).properties(\n",
    "    width = 750,\n",
    "    height = 550,\n",
    "    title='Canadian natural gas exports - comparison of data sources').interactive()\n",
    "\n",
    "chart.configure_title(\n",
    "    fontSize=20,\n",
    "    font='Courier',\n",
    "    anchor='start',\n",
    "    color='black')\n"
   ]
  }
 ],
 "metadata": {
  "kernelspec": {
   "display_name": "Python 3",
   "language": "python",
   "name": "python3"
  },
  "language_info": {
   "codemirror_mode": {
    "name": "ipython",
    "version": 3
   },
   "file_extension": ".py",
   "mimetype": "text/x-python",
   "name": "python",
   "nbconvert_exporter": "python",
   "pygments_lexer": "ipython3",
   "version": "3.7.6"
  }
 },
 "nbformat": 4,
 "nbformat_minor": 4
}
